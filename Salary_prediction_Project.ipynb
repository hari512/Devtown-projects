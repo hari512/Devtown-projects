{
  "nbformat": 4,
  "nbformat_minor": 0,
  "metadata": {
    "colab": {
      "name": "Salary_prediction Project",
      "provenance": [],
      "collapsed_sections": []
    },
    "kernelspec": {
      "name": "python3",
      "display_name": "Python 3"
    },
    "language_info": {
      "name": "python"
    }
  },
  "cells": [
    {
      "cell_type": "markdown",
      "source": [
        "# Salary prediction project"
      ],
      "metadata": {
        "id": "zGkfVX1Hl0Kh"
      }
    },
    {
      "cell_type": "markdown",
      "source": [
        "problem - Given datset which captures gross salary from july 2013 through june 2014 and includes those employees who were employed on june 2014. predict salary of employees."
      ],
      "metadata": {
        "id": "eytbDs3Bl5TD"
      }
    },
    {
      "cell_type": "markdown",
      "source": [
        "# Outline\n",
        "1. import dataset\n",
        "2. Data cleaning and preperation.\n",
        "3. Exploratory data analysis.\n",
        "4. feature engineering.\n",
        "5. train_test_split.\n",
        "6. model building.\n",
        "7. model evaluation"
      ],
      "metadata": {
        "id": "fSOmgsoumm9r"
      }
    },
    {
      "cell_type": "markdown",
      "source": [
        "Linear regression, as it's core , is a way of calculating the relationship between two variables. - it creates linear mathematical relationship between two variables. - one is dependent and one is independent. It enables "
      ],
      "metadata": {
        "id": "JEDoBRa7nFOn"
      }
    },
    {
      "cell_type": "code",
      "execution_count": null,
      "metadata": {
        "id": "_pZhBLgSkZk3"
      },
      "outputs": [],
      "source": [
        "# Importing the libraries\n",
        "import pandas as pd\n",
        "import numpy as np\n",
        "\n",
        "# Libraries for visualizations\n",
        "import matplotlib.pyplot as plt\n",
        "import seaborn as sb\n",
        "\n",
        "# supress warnings\n",
        "import warnings\n",
        "warnings.filterwarnings('ignore')\n",
        "\n",
        "# Feature scaling\n",
        "from sklearn.preprocessing import StandardScaler\n",
        "\n",
        "# Import for train test and split\n",
        "from sklearn.model_selection import train_test_split\n",
        " \n",
        " # Model building\n",
        "from sklearn.linear_model import LinearRegression"
      ]
    },
    {
      "cell_type": "code",
      "source": [
        "# import dataset\n",
        "df=pd.read_csv(\"/content/drive/MyDrive/Data Sets/predict employee salary/train_salary.csv\")\n",
        "df.head()"
      ],
      "metadata": {
        "colab": {
          "base_uri": "https://localhost:8080/",
          "height": 206
        },
        "id": "MkXzMEPJlzYj",
        "outputId": "116b1d88-7069-48b5-9930-0a3960dafa0f"
      },
      "execution_count": null,
      "outputs": [
        {
          "output_type": "execute_result",
          "data": {
            "text/html": [
              "\n",
              "  <div id=\"df-b334d609-3d1b-4b0a-807e-30924f42adfc\">\n",
              "    <div class=\"colab-df-container\">\n",
              "      <div>\n",
              "<style scoped>\n",
              "    .dataframe tbody tr th:only-of-type {\n",
              "        vertical-align: middle;\n",
              "    }\n",
              "\n",
              "    .dataframe tbody tr th {\n",
              "        vertical-align: top;\n",
              "    }\n",
              "\n",
              "    .dataframe thead th {\n",
              "        text-align: right;\n",
              "    }\n",
              "</style>\n",
              "<table border=\"1\" class=\"dataframe\">\n",
              "  <thead>\n",
              "    <tr style=\"text-align: right;\">\n",
              "      <th></th>\n",
              "      <th>Name</th>\n",
              "      <th>JobTitle</th>\n",
              "      <th>AgencyID</th>\n",
              "      <th>Agency</th>\n",
              "      <th>HireDate</th>\n",
              "      <th>AnnualSalary</th>\n",
              "      <th>GrossPay</th>\n",
              "    </tr>\n",
              "  </thead>\n",
              "  <tbody>\n",
              "    <tr>\n",
              "      <th>0</th>\n",
              "      <td>Aaron,Keontae E</td>\n",
              "      <td>AIDE BLUE CHIP</td>\n",
              "      <td>W02200</td>\n",
              "      <td>Youth Summer</td>\n",
              "      <td>06/10/2013</td>\n",
              "      <td>$11310.00</td>\n",
              "      <td>$873.63</td>\n",
              "    </tr>\n",
              "    <tr>\n",
              "      <th>1</th>\n",
              "      <td>Aaron,Patricia G</td>\n",
              "      <td>Facilities/Office Services II</td>\n",
              "      <td>A03031</td>\n",
              "      <td>OED-Employment Dev</td>\n",
              "      <td>10/24/1979</td>\n",
              "      <td>$53428.00</td>\n",
              "      <td>$52868.38</td>\n",
              "    </tr>\n",
              "    <tr>\n",
              "      <th>2</th>\n",
              "      <td>Aaron,Petra L</td>\n",
              "      <td>ASSISTANT STATE'S ATTORNEY</td>\n",
              "      <td>A29005</td>\n",
              "      <td>States Attorneys Office</td>\n",
              "      <td>09/25/2006</td>\n",
              "      <td>$68300.00</td>\n",
              "      <td>$67439.19</td>\n",
              "    </tr>\n",
              "    <tr>\n",
              "      <th>3</th>\n",
              "      <td>Abaineh,Yohannes T</td>\n",
              "      <td>EPIDEMIOLOGIST</td>\n",
              "      <td>A65026</td>\n",
              "      <td>HLTH-Health Department</td>\n",
              "      <td>07/23/2009</td>\n",
              "      <td>$62000.00</td>\n",
              "      <td>$58654.74</td>\n",
              "    </tr>\n",
              "    <tr>\n",
              "      <th>4</th>\n",
              "      <td>Abbene,Anthony M</td>\n",
              "      <td>POLICE OFFICER TRAINEE</td>\n",
              "      <td>A99416</td>\n",
              "      <td>Police Department</td>\n",
              "      <td>07/24/2013</td>\n",
              "      <td>$43999.00</td>\n",
              "      <td>$39686.95</td>\n",
              "    </tr>\n",
              "  </tbody>\n",
              "</table>\n",
              "</div>\n",
              "      <button class=\"colab-df-convert\" onclick=\"convertToInteractive('df-b334d609-3d1b-4b0a-807e-30924f42adfc')\"\n",
              "              title=\"Convert this dataframe to an interactive table.\"\n",
              "              style=\"display:none;\">\n",
              "        \n",
              "  <svg xmlns=\"http://www.w3.org/2000/svg\" height=\"24px\"viewBox=\"0 0 24 24\"\n",
              "       width=\"24px\">\n",
              "    <path d=\"M0 0h24v24H0V0z\" fill=\"none\"/>\n",
              "    <path d=\"M18.56 5.44l.94 2.06.94-2.06 2.06-.94-2.06-.94-.94-2.06-.94 2.06-2.06.94zm-11 1L8.5 8.5l.94-2.06 2.06-.94-2.06-.94L8.5 2.5l-.94 2.06-2.06.94zm10 10l.94 2.06.94-2.06 2.06-.94-2.06-.94-.94-2.06-.94 2.06-2.06.94z\"/><path d=\"M17.41 7.96l-1.37-1.37c-.4-.4-.92-.59-1.43-.59-.52 0-1.04.2-1.43.59L10.3 9.45l-7.72 7.72c-.78.78-.78 2.05 0 2.83L4 21.41c.39.39.9.59 1.41.59.51 0 1.02-.2 1.41-.59l7.78-7.78 2.81-2.81c.8-.78.8-2.07 0-2.86zM5.41 20L4 18.59l7.72-7.72 1.47 1.35L5.41 20z\"/>\n",
              "  </svg>\n",
              "      </button>\n",
              "      \n",
              "  <style>\n",
              "    .colab-df-container {\n",
              "      display:flex;\n",
              "      flex-wrap:wrap;\n",
              "      gap: 12px;\n",
              "    }\n",
              "\n",
              "    .colab-df-convert {\n",
              "      background-color: #E8F0FE;\n",
              "      border: none;\n",
              "      border-radius: 50%;\n",
              "      cursor: pointer;\n",
              "      display: none;\n",
              "      fill: #1967D2;\n",
              "      height: 32px;\n",
              "      padding: 0 0 0 0;\n",
              "      width: 32px;\n",
              "    }\n",
              "\n",
              "    .colab-df-convert:hover {\n",
              "      background-color: #E2EBFA;\n",
              "      box-shadow: 0px 1px 2px rgba(60, 64, 67, 0.3), 0px 1px 3px 1px rgba(60, 64, 67, 0.15);\n",
              "      fill: #174EA6;\n",
              "    }\n",
              "\n",
              "    [theme=dark] .colab-df-convert {\n",
              "      background-color: #3B4455;\n",
              "      fill: #D2E3FC;\n",
              "    }\n",
              "\n",
              "    [theme=dark] .colab-df-convert:hover {\n",
              "      background-color: #434B5C;\n",
              "      box-shadow: 0px 1px 3px 1px rgba(0, 0, 0, 0.15);\n",
              "      filter: drop-shadow(0px 1px 2px rgba(0, 0, 0, 0.3));\n",
              "      fill: #FFFFFF;\n",
              "    }\n",
              "  </style>\n",
              "\n",
              "      <script>\n",
              "        const buttonEl =\n",
              "          document.querySelector('#df-b334d609-3d1b-4b0a-807e-30924f42adfc button.colab-df-convert');\n",
              "        buttonEl.style.display =\n",
              "          google.colab.kernel.accessAllowed ? 'block' : 'none';\n",
              "\n",
              "        async function convertToInteractive(key) {\n",
              "          const element = document.querySelector('#df-b334d609-3d1b-4b0a-807e-30924f42adfc');\n",
              "          const dataTable =\n",
              "            await google.colab.kernel.invokeFunction('convertToInteractive',\n",
              "                                                     [key], {});\n",
              "          if (!dataTable) return;\n",
              "\n",
              "          const docLinkHtml = 'Like what you see? Visit the ' +\n",
              "            '<a target=\"_blank\" href=https://colab.research.google.com/notebooks/data_table.ipynb>data table notebook</a>'\n",
              "            + ' to learn more about interactive tables.';\n",
              "          element.innerHTML = '';\n",
              "          dataTable['output_type'] = 'display_data';\n",
              "          await google.colab.output.renderOutput(dataTable, element);\n",
              "          const docLink = document.createElement('div');\n",
              "          docLink.innerHTML = docLinkHtml;\n",
              "          element.appendChild(docLink);\n",
              "        }\n",
              "      </script>\n",
              "    </div>\n",
              "  </div>\n",
              "  "
            ],
            "text/plain": [
              "                 Name                       JobTitle  ... AnnualSalary   GrossPay\n",
              "0     Aaron,Keontae E                 AIDE BLUE CHIP  ...    $11310.00    $873.63\n",
              "1    Aaron,Patricia G  Facilities/Office Services II  ...    $53428.00  $52868.38\n",
              "2       Aaron,Petra L     ASSISTANT STATE'S ATTORNEY  ...    $68300.00  $67439.19\n",
              "3  Abaineh,Yohannes T                 EPIDEMIOLOGIST  ...    $62000.00  $58654.74\n",
              "4    Abbene,Anthony M         POLICE OFFICER TRAINEE  ...    $43999.00  $39686.95\n",
              "\n",
              "[5 rows x 7 columns]"
            ]
          },
          "metadata": {},
          "execution_count": 2
        }
      ]
    },
    {
      "cell_type": "code",
      "source": [
        "# Data cleaning and preparation\n",
        "df.info()"
      ],
      "metadata": {
        "colab": {
          "base_uri": "https://localhost:8080/"
        },
        "id": "4nIZAozArT02",
        "outputId": "f6672686-c61e-4ee9-f15c-29cc5884035a"
      },
      "execution_count": null,
      "outputs": [
        {
          "output_type": "stream",
          "name": "stdout",
          "text": [
            "<class 'pandas.core.frame.DataFrame'>\n",
            "RangeIndex: 18981 entries, 0 to 18980\n",
            "Data columns (total 7 columns):\n",
            " #   Column        Non-Null Count  Dtype \n",
            "---  ------        --------------  ----- \n",
            " 0    Name         18981 non-null  object\n",
            " 1   JobTitle      18981 non-null  object\n",
            " 2   AgencyID      18981 non-null  object\n",
            " 3   Agency        18981 non-null  object\n",
            " 4   HireDate      18911 non-null  object\n",
            " 5   AnnualSalary  18981 non-null  object\n",
            " 6   GrossPay      15758 non-null  object\n",
            "dtypes: object(7)\n",
            "memory usage: 1.0+ MB\n"
          ]
        }
      ]
    },
    {
      "cell_type": "markdown",
      "source": [
        " 1. There are 18981 rows.\n",
        " 2. There are 7 column in dataset.\n",
        " 3. All the columns are of object datatype "
      ],
      "metadata": {
        "id": "g0rVP3Ksr0ms"
      }
    },
    {
      "cell_type": "code",
      "source": [
        "# create a copy of datset \n",
        "df_cpy = df.copy()"
      ],
      "metadata": {
        "id": "hpkihp73qeAc"
      },
      "execution_count": null,
      "outputs": []
    },
    {
      "cell_type": "code",
      "source": [
        "df_cpy.columns"
      ],
      "metadata": {
        "colab": {
          "base_uri": "https://localhost:8080/"
        },
        "id": "nIPPyvsNrklx",
        "outputId": "588b913e-7f61-47a4-d99e-8ab392746541"
      },
      "execution_count": null,
      "outputs": [
        {
          "output_type": "execute_result",
          "data": {
            "text/plain": [
              "Index([' Name', 'JobTitle', 'AgencyID', 'Agency', 'HireDate', 'AnnualSalary',\n",
              "       'GrossPay'],\n",
              "      dtype='object')"
            ]
          },
          "metadata": {},
          "execution_count": 5
        }
      ]
    },
    {
      "cell_type": "code",
      "source": [
        "df_cpy.columns=df_cpy.columns.str.strip()  # removing spaces before and after"
      ],
      "metadata": {
        "id": "-6rOuyH8rkjv"
      },
      "execution_count": null,
      "outputs": []
    },
    {
      "cell_type": "code",
      "source": [
        "df_cpy.columns"
      ],
      "metadata": {
        "colab": {
          "base_uri": "https://localhost:8080/"
        },
        "id": "3Y8NeDx_rkg9",
        "outputId": "960c6f21-e964-46f8-abfd-159d513eaa91"
      },
      "execution_count": null,
      "outputs": [
        {
          "output_type": "execute_result",
          "data": {
            "text/plain": [
              "Index(['Name', 'JobTitle', 'AgencyID', 'Agency', 'HireDate', 'AnnualSalary',\n",
              "       'GrossPay'],\n",
              "      dtype='object')"
            ]
          },
          "metadata": {},
          "execution_count": 7
        }
      ]
    },
    {
      "cell_type": "code",
      "source": [
        "# check null values in dataset\n",
        "df_cpy.isnull().sum()"
      ],
      "metadata": {
        "colab": {
          "base_uri": "https://localhost:8080/"
        },
        "id": "znSVmVEQrkdx",
        "outputId": "8eb9f5d9-9540-4e79-d0db-c7dea8fd298f"
      },
      "execution_count": null,
      "outputs": [
        {
          "output_type": "execute_result",
          "data": {
            "text/plain": [
              "Name               0\n",
              "JobTitle           0\n",
              "AgencyID           0\n",
              "Agency             0\n",
              "HireDate          70\n",
              "AnnualSalary       0\n",
              "GrossPay        3223\n",
              "dtype: int64"
            ]
          },
          "metadata": {},
          "execution_count": 8
        }
      ]
    },
    {
      "cell_type": "code",
      "source": [
        "df_cpy=df_cpy.dropna(subset=['HireDate'])"
      ],
      "metadata": {
        "id": "gwV1P-xAu6qk"
      },
      "execution_count": null,
      "outputs": []
    },
    {
      "cell_type": "code",
      "source": [
        "df_cpy.isnull().sum()"
      ],
      "metadata": {
        "colab": {
          "base_uri": "https://localhost:8080/"
        },
        "id": "stGcKp4DvARh",
        "outputId": "678e1339-d36a-4b7a-c8d0-a604aec8cba1"
      },
      "execution_count": null,
      "outputs": [
        {
          "output_type": "execute_result",
          "data": {
            "text/plain": [
              "Name               0\n",
              "JobTitle           0\n",
              "AgencyID           0\n",
              "Agency             0\n",
              "HireDate           0\n",
              "AnnualSalary       0\n",
              "GrossPay        3223\n",
              "dtype: int64"
            ]
          },
          "metadata": {},
          "execution_count": 10
        }
      ]
    },
    {
      "cell_type": "code",
      "source": [
        "# grosspay depend on  annual salary \n",
        "df_cpy= df_cpy.drop('GrossPay',axis=1)\n",
        "df_cpy.isnull().sum() "
      ],
      "metadata": {
        "colab": {
          "base_uri": "https://localhost:8080/"
        },
        "id": "WEtjdmFBvyQs",
        "outputId": "d786d6b0-3433-4696-e90e-b6aa5246b2dd"
      },
      "execution_count": null,
      "outputs": [
        {
          "output_type": "execute_result",
          "data": {
            "text/plain": [
              "Name            0\n",
              "JobTitle        0\n",
              "AgencyID        0\n",
              "Agency          0\n",
              "HireDate        0\n",
              "AnnualSalary    0\n",
              "dtype: int64"
            ]
          },
          "metadata": {},
          "execution_count": 11
        }
      ]
    },
    {
      "cell_type": "code",
      "source": [
        "df_cpy.info()"
      ],
      "metadata": {
        "id": "uFY1b2Io-PWA",
        "outputId": "e277f480-2a96-488f-9217-97bbf6dae8cb",
        "colab": {
          "base_uri": "https://localhost:8080/"
        }
      },
      "execution_count": null,
      "outputs": [
        {
          "output_type": "stream",
          "name": "stdout",
          "text": [
            "<class 'pandas.core.frame.DataFrame'>\n",
            "Int64Index: 18911 entries, 0 to 18980\n",
            "Data columns (total 6 columns):\n",
            " #   Column        Non-Null Count  Dtype \n",
            "---  ------        --------------  ----- \n",
            " 0   Name          18911 non-null  object\n",
            " 1   JobTitle      18911 non-null  object\n",
            " 2   AgencyID      18911 non-null  object\n",
            " 3   Agency        18911 non-null  object\n",
            " 4   HireDate      18911 non-null  object\n",
            " 5   AnnualSalary  18911 non-null  object\n",
            "dtypes: object(6)\n",
            "memory usage: 1.0+ MB\n"
          ]
        }
      ]
    },
    {
      "cell_type": "code",
      "source": [
        "# value_counts for AgencyID\n",
        "df_cpy.AgencyID.value_counts()"
      ],
      "metadata": {
        "colab": {
          "base_uri": "https://localhost:8080/"
        },
        "id": "PnYZcc3Ewra7",
        "outputId": "7ab2c5bd-3f5e-4745-cb58-1233e2372123"
      },
      "execution_count": null,
      "outputs": [
        {
          "output_type": "execute_result",
          "data": {
            "text/plain": [
              "P04001    316\n",
              "C90786    276\n",
              "W02629    193\n",
              "P04002    191\n",
              "A99416    166\n",
              "         ... \n",
              "W02525      1\n",
              "W02400      1\n",
              "A64005      1\n",
              "W02666      1\n",
              "W02339      1\n",
              "Name: AgencyID, Length: 1177, dtype: int64"
            ]
          },
          "metadata": {},
          "execution_count": 13
        }
      ]
    },
    {
      "cell_type": "code",
      "source": [
        "# value_counts for Agency\n",
        "df_cpy.Agency.value_counts()"
      ],
      "metadata": {
        "colab": {
          "base_uri": "https://localhost:8080/"
        },
        "id": "MeOrcQm6w_Nz",
        "outputId": "a7c04011-2c41-4448-a4bf-285ba4a1c0fe"
      },
      "execution_count": null,
      "outputs": [
        {
          "output_type": "execute_result",
          "data": {
            "text/plain": [
              "Youth Summer                4323\n",
              "Police Department           3141\n",
              "Fire Department             1576\n",
              "DPW-Water & Waste Water     1491\n",
              "HLTH-Health Department       833\n",
              "                            ... \n",
              "Council Services               6\n",
              "HLTH-Health Dept Locatio       6\n",
              "Legislative Reference          5\n",
              "M-R Cable & Comm               4\n",
              "Special City Services          4\n",
              "Name: Agency, Length: 65, dtype: int64"
            ]
          },
          "metadata": {},
          "execution_count": 14
        }
      ]
    },
    {
      "cell_type": "code",
      "source": [
        "# value_counts() for job title\n",
        "df_cpy.JobTitle.value_counts()"
      ],
      "metadata": {
        "colab": {
          "base_uri": "https://localhost:8080/"
        },
        "id": "UdCcBCGGxRX-",
        "outputId": "799d244f-f9db-493e-88ce-7e442acf0fa6"
      },
      "execution_count": null,
      "outputs": [
        {
          "output_type": "execute_result",
          "data": {
            "text/plain": [
              "AIDE BLUE CHIP                    4817\n",
              "POLICE OFFICER                    1866\n",
              "LABORER (Hourly)                   597\n",
              "EMT Firefighter Suppression        358\n",
              "CROSSING GUARD                     337\n",
              "                                  ... \n",
              "PUBLIC INFORMATION OFFICER SAO       1\n",
              "STREET MASON                         1\n",
              "DESIGN PLANNER I                     1\n",
              "FUEL SYSTEMS SPECIALIST              1\n",
              "Research Analyst II                  1\n",
              "Name: JobTitle, Length: 1073, dtype: int64"
            ]
          },
          "metadata": {},
          "execution_count": 15
        }
      ]
    },
    {
      "cell_type": "code",
      "source": [
        "# values of HireDate\n",
        "df_cpy.HireDate.value_counts()"
      ],
      "metadata": {
        "colab": {
          "base_uri": "https://localhost:8080/"
        },
        "id": "1SYpeVMtxyNc",
        "outputId": "2bb7c60b-5338-401f-940e-eaffa72e3a0a"
      },
      "execution_count": null,
      "outputs": [
        {
          "output_type": "execute_result",
          "data": {
            "text/plain": [
              "05/21/2014    1478\n",
              "06/10/2013     696\n",
              "06/12/2012     541\n",
              "06/07/2011     368\n",
              "05/29/2014     347\n",
              "              ... \n",
              "02/13/2009       1\n",
              "08/12/1993       1\n",
              "02/09/1998       1\n",
              "05/06/1980       1\n",
              "10/15/1979       1\n",
              "Name: HireDate, Length: 4737, dtype: int64"
            ]
          },
          "metadata": {},
          "execution_count": 16
        }
      ]
    },
    {
      "cell_type": "code",
      "source": [
        "df_cpy['HireDay']=df_cpy['HireDate'].apply(lambda x: (int)(str(x[3:5])))\n",
        "df_cpy['HireMonth']=df_cpy['HireDate'].apply(lambda x: (int)(str(x[0:2])))\n",
        "df_cpy['HireYear']=df_cpy['HireDate'].apply(lambda x: (int)(str(x[6:])))\n"
      ],
      "metadata": {
        "id": "ODE4sm0m0EmD"
      },
      "execution_count": null,
      "outputs": []
    },
    {
      "cell_type": "code",
      "source": [
        "df_cpy.head()"
      ],
      "metadata": {
        "colab": {
          "base_uri": "https://localhost:8080/",
          "height": 206
        },
        "id": "6gU6ZhaJ0qrD",
        "outputId": "47989c2e-55a5-4c0f-bb7b-84b48ee25233"
      },
      "execution_count": null,
      "outputs": [
        {
          "output_type": "execute_result",
          "data": {
            "text/html": [
              "\n",
              "  <div id=\"df-6c628bcd-7eb6-44fa-948c-b47ee8bbefdc\">\n",
              "    <div class=\"colab-df-container\">\n",
              "      <div>\n",
              "<style scoped>\n",
              "    .dataframe tbody tr th:only-of-type {\n",
              "        vertical-align: middle;\n",
              "    }\n",
              "\n",
              "    .dataframe tbody tr th {\n",
              "        vertical-align: top;\n",
              "    }\n",
              "\n",
              "    .dataframe thead th {\n",
              "        text-align: right;\n",
              "    }\n",
              "</style>\n",
              "<table border=\"1\" class=\"dataframe\">\n",
              "  <thead>\n",
              "    <tr style=\"text-align: right;\">\n",
              "      <th></th>\n",
              "      <th>Name</th>\n",
              "      <th>JobTitle</th>\n",
              "      <th>AgencyID</th>\n",
              "      <th>Agency</th>\n",
              "      <th>HireDate</th>\n",
              "      <th>AnnualSalary</th>\n",
              "      <th>HireDay</th>\n",
              "      <th>HireMonth</th>\n",
              "      <th>HireYear</th>\n",
              "    </tr>\n",
              "  </thead>\n",
              "  <tbody>\n",
              "    <tr>\n",
              "      <th>0</th>\n",
              "      <td>Aaron,Keontae E</td>\n",
              "      <td>AIDE BLUE CHIP</td>\n",
              "      <td>W02200</td>\n",
              "      <td>Youth Summer</td>\n",
              "      <td>06/10/2013</td>\n",
              "      <td>$11310.00</td>\n",
              "      <td>10</td>\n",
              "      <td>6</td>\n",
              "      <td>2013</td>\n",
              "    </tr>\n",
              "    <tr>\n",
              "      <th>1</th>\n",
              "      <td>Aaron,Patricia G</td>\n",
              "      <td>Facilities/Office Services II</td>\n",
              "      <td>A03031</td>\n",
              "      <td>OED-Employment Dev</td>\n",
              "      <td>10/24/1979</td>\n",
              "      <td>$53428.00</td>\n",
              "      <td>24</td>\n",
              "      <td>10</td>\n",
              "      <td>1979</td>\n",
              "    </tr>\n",
              "    <tr>\n",
              "      <th>2</th>\n",
              "      <td>Aaron,Petra L</td>\n",
              "      <td>ASSISTANT STATE'S ATTORNEY</td>\n",
              "      <td>A29005</td>\n",
              "      <td>States Attorneys Office</td>\n",
              "      <td>09/25/2006</td>\n",
              "      <td>$68300.00</td>\n",
              "      <td>25</td>\n",
              "      <td>9</td>\n",
              "      <td>2006</td>\n",
              "    </tr>\n",
              "    <tr>\n",
              "      <th>3</th>\n",
              "      <td>Abaineh,Yohannes T</td>\n",
              "      <td>EPIDEMIOLOGIST</td>\n",
              "      <td>A65026</td>\n",
              "      <td>HLTH-Health Department</td>\n",
              "      <td>07/23/2009</td>\n",
              "      <td>$62000.00</td>\n",
              "      <td>23</td>\n",
              "      <td>7</td>\n",
              "      <td>2009</td>\n",
              "    </tr>\n",
              "    <tr>\n",
              "      <th>4</th>\n",
              "      <td>Abbene,Anthony M</td>\n",
              "      <td>POLICE OFFICER TRAINEE</td>\n",
              "      <td>A99416</td>\n",
              "      <td>Police Department</td>\n",
              "      <td>07/24/2013</td>\n",
              "      <td>$43999.00</td>\n",
              "      <td>24</td>\n",
              "      <td>7</td>\n",
              "      <td>2013</td>\n",
              "    </tr>\n",
              "  </tbody>\n",
              "</table>\n",
              "</div>\n",
              "      <button class=\"colab-df-convert\" onclick=\"convertToInteractive('df-6c628bcd-7eb6-44fa-948c-b47ee8bbefdc')\"\n",
              "              title=\"Convert this dataframe to an interactive table.\"\n",
              "              style=\"display:none;\">\n",
              "        \n",
              "  <svg xmlns=\"http://www.w3.org/2000/svg\" height=\"24px\"viewBox=\"0 0 24 24\"\n",
              "       width=\"24px\">\n",
              "    <path d=\"M0 0h24v24H0V0z\" fill=\"none\"/>\n",
              "    <path d=\"M18.56 5.44l.94 2.06.94-2.06 2.06-.94-2.06-.94-.94-2.06-.94 2.06-2.06.94zm-11 1L8.5 8.5l.94-2.06 2.06-.94-2.06-.94L8.5 2.5l-.94 2.06-2.06.94zm10 10l.94 2.06.94-2.06 2.06-.94-2.06-.94-.94-2.06-.94 2.06-2.06.94z\"/><path d=\"M17.41 7.96l-1.37-1.37c-.4-.4-.92-.59-1.43-.59-.52 0-1.04.2-1.43.59L10.3 9.45l-7.72 7.72c-.78.78-.78 2.05 0 2.83L4 21.41c.39.39.9.59 1.41.59.51 0 1.02-.2 1.41-.59l7.78-7.78 2.81-2.81c.8-.78.8-2.07 0-2.86zM5.41 20L4 18.59l7.72-7.72 1.47 1.35L5.41 20z\"/>\n",
              "  </svg>\n",
              "      </button>\n",
              "      \n",
              "  <style>\n",
              "    .colab-df-container {\n",
              "      display:flex;\n",
              "      flex-wrap:wrap;\n",
              "      gap: 12px;\n",
              "    }\n",
              "\n",
              "    .colab-df-convert {\n",
              "      background-color: #E8F0FE;\n",
              "      border: none;\n",
              "      border-radius: 50%;\n",
              "      cursor: pointer;\n",
              "      display: none;\n",
              "      fill: #1967D2;\n",
              "      height: 32px;\n",
              "      padding: 0 0 0 0;\n",
              "      width: 32px;\n",
              "    }\n",
              "\n",
              "    .colab-df-convert:hover {\n",
              "      background-color: #E2EBFA;\n",
              "      box-shadow: 0px 1px 2px rgba(60, 64, 67, 0.3), 0px 1px 3px 1px rgba(60, 64, 67, 0.15);\n",
              "      fill: #174EA6;\n",
              "    }\n",
              "\n",
              "    [theme=dark] .colab-df-convert {\n",
              "      background-color: #3B4455;\n",
              "      fill: #D2E3FC;\n",
              "    }\n",
              "\n",
              "    [theme=dark] .colab-df-convert:hover {\n",
              "      background-color: #434B5C;\n",
              "      box-shadow: 0px 1px 3px 1px rgba(0, 0, 0, 0.15);\n",
              "      filter: drop-shadow(0px 1px 2px rgba(0, 0, 0, 0.3));\n",
              "      fill: #FFFFFF;\n",
              "    }\n",
              "  </style>\n",
              "\n",
              "      <script>\n",
              "        const buttonEl =\n",
              "          document.querySelector('#df-6c628bcd-7eb6-44fa-948c-b47ee8bbefdc button.colab-df-convert');\n",
              "        buttonEl.style.display =\n",
              "          google.colab.kernel.accessAllowed ? 'block' : 'none';\n",
              "\n",
              "        async function convertToInteractive(key) {\n",
              "          const element = document.querySelector('#df-6c628bcd-7eb6-44fa-948c-b47ee8bbefdc');\n",
              "          const dataTable =\n",
              "            await google.colab.kernel.invokeFunction('convertToInteractive',\n",
              "                                                     [key], {});\n",
              "          if (!dataTable) return;\n",
              "\n",
              "          const docLinkHtml = 'Like what you see? Visit the ' +\n",
              "            '<a target=\"_blank\" href=https://colab.research.google.com/notebooks/data_table.ipynb>data table notebook</a>'\n",
              "            + ' to learn more about interactive tables.';\n",
              "          element.innerHTML = '';\n",
              "          dataTable['output_type'] = 'display_data';\n",
              "          await google.colab.output.renderOutput(dataTable, element);\n",
              "          const docLink = document.createElement('div');\n",
              "          docLink.innerHTML = docLinkHtml;\n",
              "          element.appendChild(docLink);\n",
              "        }\n",
              "      </script>\n",
              "    </div>\n",
              "  </div>\n",
              "  "
            ],
            "text/plain": [
              "                 Name                       JobTitle  ... HireMonth HireYear\n",
              "0     Aaron,Keontae E                 AIDE BLUE CHIP  ...         6     2013\n",
              "1    Aaron,Patricia G  Facilities/Office Services II  ...        10     1979\n",
              "2       Aaron,Petra L     ASSISTANT STATE'S ATTORNEY  ...         9     2006\n",
              "3  Abaineh,Yohannes T                 EPIDEMIOLOGIST  ...         7     2009\n",
              "4    Abbene,Anthony M         POLICE OFFICER TRAINEE  ...         7     2013\n",
              "\n",
              "[5 rows x 9 columns]"
            ]
          },
          "metadata": {},
          "execution_count": 18
        }
      ]
    },
    {
      "cell_type": "code",
      "source": [
        "df_cpy.info()"
      ],
      "metadata": {
        "colab": {
          "base_uri": "https://localhost:8080/"
        },
        "id": "4tAJpSnK0tFL",
        "outputId": "314c9077-51b1-4a52-f7fd-44a1ace553f5"
      },
      "execution_count": null,
      "outputs": [
        {
          "output_type": "stream",
          "name": "stdout",
          "text": [
            "<class 'pandas.core.frame.DataFrame'>\n",
            "Int64Index: 18911 entries, 0 to 18980\n",
            "Data columns (total 9 columns):\n",
            " #   Column        Non-Null Count  Dtype \n",
            "---  ------        --------------  ----- \n",
            " 0   Name          18911 non-null  object\n",
            " 1   JobTitle      18911 non-null  object\n",
            " 2   AgencyID      18911 non-null  object\n",
            " 3   Agency        18911 non-null  object\n",
            " 4   HireDate      18911 non-null  object\n",
            " 5   AnnualSalary  18911 non-null  object\n",
            " 6   HireDay       18911 non-null  int64 \n",
            " 7   HireMonth     18911 non-null  int64 \n",
            " 8   HireYear      18911 non-null  int64 \n",
            "dtypes: int64(3), object(6)\n",
            "memory usage: 1.4+ MB\n"
          ]
        }
      ]
    },
    {
      "cell_type": "code",
      "source": [
        "df_cpy['AnnualSalary']=df_cpy['AnnualSalary'].apply(lambda x: (float)(str(x[1:])))"
      ],
      "metadata": {
        "id": "x2DxlK0G1JrL"
      },
      "execution_count": null,
      "outputs": []
    },
    {
      "cell_type": "code",
      "source": [
        "df_cpy.head(20)"
      ],
      "metadata": {
        "colab": {
          "base_uri": "https://localhost:8080/",
          "height": 676
        },
        "id": "LO9MSHoF17wl",
        "outputId": "2b4e1dde-7e3b-4bf8-f866-33527168e3d7"
      },
      "execution_count": null,
      "outputs": [
        {
          "output_type": "execute_result",
          "data": {
            "text/html": [
              "\n",
              "  <div id=\"df-cc27665e-08d9-4760-8658-4814f125f0c0\">\n",
              "    <div class=\"colab-df-container\">\n",
              "      <div>\n",
              "<style scoped>\n",
              "    .dataframe tbody tr th:only-of-type {\n",
              "        vertical-align: middle;\n",
              "    }\n",
              "\n",
              "    .dataframe tbody tr th {\n",
              "        vertical-align: top;\n",
              "    }\n",
              "\n",
              "    .dataframe thead th {\n",
              "        text-align: right;\n",
              "    }\n",
              "</style>\n",
              "<table border=\"1\" class=\"dataframe\">\n",
              "  <thead>\n",
              "    <tr style=\"text-align: right;\">\n",
              "      <th></th>\n",
              "      <th>Name</th>\n",
              "      <th>JobTitle</th>\n",
              "      <th>AgencyID</th>\n",
              "      <th>Agency</th>\n",
              "      <th>HireDate</th>\n",
              "      <th>AnnualSalary</th>\n",
              "      <th>HireDay</th>\n",
              "      <th>HireMonth</th>\n",
              "      <th>HireYear</th>\n",
              "    </tr>\n",
              "  </thead>\n",
              "  <tbody>\n",
              "    <tr>\n",
              "      <th>0</th>\n",
              "      <td>Aaron,Keontae E</td>\n",
              "      <td>AIDE BLUE CHIP</td>\n",
              "      <td>W02200</td>\n",
              "      <td>Youth Summer</td>\n",
              "      <td>06/10/2013</td>\n",
              "      <td>11310.0</td>\n",
              "      <td>10</td>\n",
              "      <td>6</td>\n",
              "      <td>2013</td>\n",
              "    </tr>\n",
              "    <tr>\n",
              "      <th>1</th>\n",
              "      <td>Aaron,Patricia G</td>\n",
              "      <td>Facilities/Office Services II</td>\n",
              "      <td>A03031</td>\n",
              "      <td>OED-Employment Dev</td>\n",
              "      <td>10/24/1979</td>\n",
              "      <td>53428.0</td>\n",
              "      <td>24</td>\n",
              "      <td>10</td>\n",
              "      <td>1979</td>\n",
              "    </tr>\n",
              "    <tr>\n",
              "      <th>2</th>\n",
              "      <td>Aaron,Petra L</td>\n",
              "      <td>ASSISTANT STATE'S ATTORNEY</td>\n",
              "      <td>A29005</td>\n",
              "      <td>States Attorneys Office</td>\n",
              "      <td>09/25/2006</td>\n",
              "      <td>68300.0</td>\n",
              "      <td>25</td>\n",
              "      <td>9</td>\n",
              "      <td>2006</td>\n",
              "    </tr>\n",
              "    <tr>\n",
              "      <th>3</th>\n",
              "      <td>Abaineh,Yohannes T</td>\n",
              "      <td>EPIDEMIOLOGIST</td>\n",
              "      <td>A65026</td>\n",
              "      <td>HLTH-Health Department</td>\n",
              "      <td>07/23/2009</td>\n",
              "      <td>62000.0</td>\n",
              "      <td>23</td>\n",
              "      <td>7</td>\n",
              "      <td>2009</td>\n",
              "    </tr>\n",
              "    <tr>\n",
              "      <th>4</th>\n",
              "      <td>Abbene,Anthony M</td>\n",
              "      <td>POLICE OFFICER TRAINEE</td>\n",
              "      <td>A99416</td>\n",
              "      <td>Police Department</td>\n",
              "      <td>07/24/2013</td>\n",
              "      <td>43999.0</td>\n",
              "      <td>24</td>\n",
              "      <td>7</td>\n",
              "      <td>2013</td>\n",
              "    </tr>\n",
              "    <tr>\n",
              "      <th>5</th>\n",
              "      <td>Abbey,Emmanuel</td>\n",
              "      <td>CONTRACT SERV SPEC II</td>\n",
              "      <td>A40001</td>\n",
              "      <td>M-R Info Technology</td>\n",
              "      <td>05/01/2013</td>\n",
              "      <td>52000.0</td>\n",
              "      <td>1</td>\n",
              "      <td>5</td>\n",
              "      <td>2013</td>\n",
              "    </tr>\n",
              "    <tr>\n",
              "      <th>6</th>\n",
              "      <td>Abdal-Rahim,Naim A</td>\n",
              "      <td>EMT Firefighter Suppression</td>\n",
              "      <td>A64120</td>\n",
              "      <td>Fire Department</td>\n",
              "      <td>03/30/2011</td>\n",
              "      <td>62175.0</td>\n",
              "      <td>30</td>\n",
              "      <td>3</td>\n",
              "      <td>2011</td>\n",
              "    </tr>\n",
              "    <tr>\n",
              "      <th>7</th>\n",
              "      <td>Abdi,Ezekiel W</td>\n",
              "      <td>POLICE SERGEANT</td>\n",
              "      <td>A99127</td>\n",
              "      <td>Police Department</td>\n",
              "      <td>06/14/2007</td>\n",
              "      <td>70918.0</td>\n",
              "      <td>14</td>\n",
              "      <td>6</td>\n",
              "      <td>2007</td>\n",
              "    </tr>\n",
              "    <tr>\n",
              "      <th>8</th>\n",
              "      <td>Abdul Adl,Attrice A</td>\n",
              "      <td>RADIO DISPATCHER SHERIFF</td>\n",
              "      <td>A38410</td>\n",
              "      <td>Sheriff's Office</td>\n",
              "      <td>09/02/1999</td>\n",
              "      <td>42438.0</td>\n",
              "      <td>2</td>\n",
              "      <td>9</td>\n",
              "      <td>1999</td>\n",
              "    </tr>\n",
              "    <tr>\n",
              "      <th>9</th>\n",
              "      <td>Abdul Aziz,Hajr E</td>\n",
              "      <td>AIDE BLUE CHIP</td>\n",
              "      <td>W02097</td>\n",
              "      <td>Youth Summer</td>\n",
              "      <td>06/18/2014</td>\n",
              "      <td>11310.0</td>\n",
              "      <td>18</td>\n",
              "      <td>6</td>\n",
              "      <td>2014</td>\n",
              "    </tr>\n",
              "    <tr>\n",
              "      <th>10</th>\n",
              "      <td>Abdul Aziz,Jennah A</td>\n",
              "      <td>AIDE BLUE CHIP</td>\n",
              "      <td>W02097</td>\n",
              "      <td>Youth Summer</td>\n",
              "      <td>06/16/2014</td>\n",
              "      <td>11310.0</td>\n",
              "      <td>16</td>\n",
              "      <td>6</td>\n",
              "      <td>2014</td>\n",
              "    </tr>\n",
              "    <tr>\n",
              "      <th>11</th>\n",
              "      <td>Abdul Aziz,Yaqub M</td>\n",
              "      <td>AIDE BLUE CHIP</td>\n",
              "      <td>W02097</td>\n",
              "      <td>Youth Summer</td>\n",
              "      <td>06/09/2014</td>\n",
              "      <td>11310.0</td>\n",
              "      <td>9</td>\n",
              "      <td>6</td>\n",
              "      <td>2014</td>\n",
              "    </tr>\n",
              "    <tr>\n",
              "      <th>12</th>\n",
              "      <td>Abdul Hamid,Umar</td>\n",
              "      <td>SECRETARY II</td>\n",
              "      <td>A06009</td>\n",
              "      <td>Housing &amp; Community Dev</td>\n",
              "      <td>01/17/1995</td>\n",
              "      <td>34692.0</td>\n",
              "      <td>17</td>\n",
              "      <td>1</td>\n",
              "      <td>1995</td>\n",
              "    </tr>\n",
              "    <tr>\n",
              "      <th>13</th>\n",
              "      <td>Abdul Saboor,Jamillah</td>\n",
              "      <td>SECRETARY II</td>\n",
              "      <td>A75054</td>\n",
              "      <td>Enoch Pratt Free Library</td>\n",
              "      <td>07/27/2009</td>\n",
              "      <td>33215.0</td>\n",
              "      <td>27</td>\n",
              "      <td>7</td>\n",
              "      <td>2009</td>\n",
              "    </tr>\n",
              "    <tr>\n",
              "      <th>14</th>\n",
              "      <td>Abdul Wajid,Amani B</td>\n",
              "      <td>AIDE BLUE CHIP</td>\n",
              "      <td>W02185</td>\n",
              "      <td>Youth Summer</td>\n",
              "      <td>06/13/2013</td>\n",
              "      <td>11310.0</td>\n",
              "      <td>13</td>\n",
              "      <td>6</td>\n",
              "      <td>2013</td>\n",
              "    </tr>\n",
              "    <tr>\n",
              "      <th>15</th>\n",
              "      <td>Abdul-Jabbar,Bushra A</td>\n",
              "      <td>SOCIAL SERVICES COORDINATOR</td>\n",
              "      <td>A06015</td>\n",
              "      <td>Housing &amp; Community Dev</td>\n",
              "      <td>04/14/2008</td>\n",
              "      <td>41202.0</td>\n",
              "      <td>14</td>\n",
              "      <td>4</td>\n",
              "      <td>2008</td>\n",
              "    </tr>\n",
              "    <tr>\n",
              "      <th>16</th>\n",
              "      <td>Abdullah,Aisha W</td>\n",
              "      <td>OFFICE ASSISTANT III</td>\n",
              "      <td>A85301</td>\n",
              "      <td>General Services</td>\n",
              "      <td>02/11/2013</td>\n",
              "      <td>28802.0</td>\n",
              "      <td>11</td>\n",
              "      <td>2</td>\n",
              "      <td>2013</td>\n",
              "    </tr>\n",
              "    <tr>\n",
              "      <th>17</th>\n",
              "      <td>Abdullah,Beverly A</td>\n",
              "      <td>TYPIST III</td>\n",
              "      <td>A06004</td>\n",
              "      <td>Housing &amp; Community Dev</td>\n",
              "      <td>12/01/1986</td>\n",
              "      <td>37199.0</td>\n",
              "      <td>1</td>\n",
              "      <td>12</td>\n",
              "      <td>1986</td>\n",
              "    </tr>\n",
              "    <tr>\n",
              "      <th>18</th>\n",
              "      <td>Abdullahi,Sharon M</td>\n",
              "      <td>911 OPERATOR</td>\n",
              "      <td>A40301</td>\n",
              "      <td>M-R Info Technology</td>\n",
              "      <td>06/10/2004</td>\n",
              "      <td>44190.0</td>\n",
              "      <td>10</td>\n",
              "      <td>6</td>\n",
              "      <td>2004</td>\n",
              "    </tr>\n",
              "    <tr>\n",
              "      <th>19</th>\n",
              "      <td>Abdur Rahim,Raghiba S</td>\n",
              "      <td>AIDE BLUE CHIP</td>\n",
              "      <td>W02412</td>\n",
              "      <td>Youth Summer</td>\n",
              "      <td>06/10/2013</td>\n",
              "      <td>11310.0</td>\n",
              "      <td>10</td>\n",
              "      <td>6</td>\n",
              "      <td>2013</td>\n",
              "    </tr>\n",
              "  </tbody>\n",
              "</table>\n",
              "</div>\n",
              "      <button class=\"colab-df-convert\" onclick=\"convertToInteractive('df-cc27665e-08d9-4760-8658-4814f125f0c0')\"\n",
              "              title=\"Convert this dataframe to an interactive table.\"\n",
              "              style=\"display:none;\">\n",
              "        \n",
              "  <svg xmlns=\"http://www.w3.org/2000/svg\" height=\"24px\"viewBox=\"0 0 24 24\"\n",
              "       width=\"24px\">\n",
              "    <path d=\"M0 0h24v24H0V0z\" fill=\"none\"/>\n",
              "    <path d=\"M18.56 5.44l.94 2.06.94-2.06 2.06-.94-2.06-.94-.94-2.06-.94 2.06-2.06.94zm-11 1L8.5 8.5l.94-2.06 2.06-.94-2.06-.94L8.5 2.5l-.94 2.06-2.06.94zm10 10l.94 2.06.94-2.06 2.06-.94-2.06-.94-.94-2.06-.94 2.06-2.06.94z\"/><path d=\"M17.41 7.96l-1.37-1.37c-.4-.4-.92-.59-1.43-.59-.52 0-1.04.2-1.43.59L10.3 9.45l-7.72 7.72c-.78.78-.78 2.05 0 2.83L4 21.41c.39.39.9.59 1.41.59.51 0 1.02-.2 1.41-.59l7.78-7.78 2.81-2.81c.8-.78.8-2.07 0-2.86zM5.41 20L4 18.59l7.72-7.72 1.47 1.35L5.41 20z\"/>\n",
              "  </svg>\n",
              "      </button>\n",
              "      \n",
              "  <style>\n",
              "    .colab-df-container {\n",
              "      display:flex;\n",
              "      flex-wrap:wrap;\n",
              "      gap: 12px;\n",
              "    }\n",
              "\n",
              "    .colab-df-convert {\n",
              "      background-color: #E8F0FE;\n",
              "      border: none;\n",
              "      border-radius: 50%;\n",
              "      cursor: pointer;\n",
              "      display: none;\n",
              "      fill: #1967D2;\n",
              "      height: 32px;\n",
              "      padding: 0 0 0 0;\n",
              "      width: 32px;\n",
              "    }\n",
              "\n",
              "    .colab-df-convert:hover {\n",
              "      background-color: #E2EBFA;\n",
              "      box-shadow: 0px 1px 2px rgba(60, 64, 67, 0.3), 0px 1px 3px 1px rgba(60, 64, 67, 0.15);\n",
              "      fill: #174EA6;\n",
              "    }\n",
              "\n",
              "    [theme=dark] .colab-df-convert {\n",
              "      background-color: #3B4455;\n",
              "      fill: #D2E3FC;\n",
              "    }\n",
              "\n",
              "    [theme=dark] .colab-df-convert:hover {\n",
              "      background-color: #434B5C;\n",
              "      box-shadow: 0px 1px 3px 1px rgba(0, 0, 0, 0.15);\n",
              "      filter: drop-shadow(0px 1px 2px rgba(0, 0, 0, 0.3));\n",
              "      fill: #FFFFFF;\n",
              "    }\n",
              "  </style>\n",
              "\n",
              "      <script>\n",
              "        const buttonEl =\n",
              "          document.querySelector('#df-cc27665e-08d9-4760-8658-4814f125f0c0 button.colab-df-convert');\n",
              "        buttonEl.style.display =\n",
              "          google.colab.kernel.accessAllowed ? 'block' : 'none';\n",
              "\n",
              "        async function convertToInteractive(key) {\n",
              "          const element = document.querySelector('#df-cc27665e-08d9-4760-8658-4814f125f0c0');\n",
              "          const dataTable =\n",
              "            await google.colab.kernel.invokeFunction('convertToInteractive',\n",
              "                                                     [key], {});\n",
              "          if (!dataTable) return;\n",
              "\n",
              "          const docLinkHtml = 'Like what you see? Visit the ' +\n",
              "            '<a target=\"_blank\" href=https://colab.research.google.com/notebooks/data_table.ipynb>data table notebook</a>'\n",
              "            + ' to learn more about interactive tables.';\n",
              "          element.innerHTML = '';\n",
              "          dataTable['output_type'] = 'display_data';\n",
              "          await google.colab.output.renderOutput(dataTable, element);\n",
              "          const docLink = document.createElement('div');\n",
              "          docLink.innerHTML = docLinkHtml;\n",
              "          element.appendChild(docLink);\n",
              "        }\n",
              "      </script>\n",
              "    </div>\n",
              "  </div>\n",
              "  "
            ],
            "text/plain": [
              "                     Name                       JobTitle  ... HireMonth HireYear\n",
              "0         Aaron,Keontae E                 AIDE BLUE CHIP  ...         6     2013\n",
              "1        Aaron,Patricia G  Facilities/Office Services II  ...        10     1979\n",
              "2           Aaron,Petra L     ASSISTANT STATE'S ATTORNEY  ...         9     2006\n",
              "3      Abaineh,Yohannes T                 EPIDEMIOLOGIST  ...         7     2009\n",
              "4        Abbene,Anthony M         POLICE OFFICER TRAINEE  ...         7     2013\n",
              "5          Abbey,Emmanuel          CONTRACT SERV SPEC II  ...         5     2013\n",
              "6      Abdal-Rahim,Naim A    EMT Firefighter Suppression  ...         3     2011\n",
              "7          Abdi,Ezekiel W                POLICE SERGEANT  ...         6     2007\n",
              "8     Abdul Adl,Attrice A       RADIO DISPATCHER SHERIFF  ...         9     1999\n",
              "9       Abdul Aziz,Hajr E                 AIDE BLUE CHIP  ...         6     2014\n",
              "10    Abdul Aziz,Jennah A                 AIDE BLUE CHIP  ...         6     2014\n",
              "11     Abdul Aziz,Yaqub M                 AIDE BLUE CHIP  ...         6     2014\n",
              "12       Abdul Hamid,Umar                   SECRETARY II  ...         1     1995\n",
              "13  Abdul Saboor,Jamillah                   SECRETARY II  ...         7     2009\n",
              "14    Abdul Wajid,Amani B                 AIDE BLUE CHIP  ...         6     2013\n",
              "15  Abdul-Jabbar,Bushra A    SOCIAL SERVICES COORDINATOR  ...         4     2008\n",
              "16       Abdullah,Aisha W           OFFICE ASSISTANT III  ...         2     2013\n",
              "17     Abdullah,Beverly A                     TYPIST III  ...        12     1986\n",
              "18     Abdullahi,Sharon M                   911 OPERATOR  ...         6     2004\n",
              "19  Abdur Rahim,Raghiba S                 AIDE BLUE CHIP  ...         6     2013\n",
              "\n",
              "[20 rows x 9 columns]"
            ]
          },
          "metadata": {},
          "execution_count": 21
        }
      ]
    },
    {
      "cell_type": "code",
      "source": [
        "df_cpy.info()"
      ],
      "metadata": {
        "colab": {
          "base_uri": "https://localhost:8080/"
        },
        "id": "CLDLZjtw1-kC",
        "outputId": "59381bee-74d0-4701-8eb0-46afd8438b1a"
      },
      "execution_count": null,
      "outputs": [
        {
          "output_type": "stream",
          "name": "stdout",
          "text": [
            "<class 'pandas.core.frame.DataFrame'>\n",
            "Int64Index: 18911 entries, 0 to 18980\n",
            "Data columns (total 9 columns):\n",
            " #   Column        Non-Null Count  Dtype  \n",
            "---  ------        --------------  -----  \n",
            " 0   Name          18911 non-null  object \n",
            " 1   JobTitle      18911 non-null  object \n",
            " 2   AgencyID      18911 non-null  object \n",
            " 3   Agency        18911 non-null  object \n",
            " 4   HireDate      18911 non-null  object \n",
            " 5   AnnualSalary  18911 non-null  float64\n",
            " 6   HireDay       18911 non-null  int64  \n",
            " 7   HireMonth     18911 non-null  int64  \n",
            " 8   HireYear      18911 non-null  int64  \n",
            "dtypes: float64(1), int64(3), object(5)\n",
            "memory usage: 1.4+ MB\n"
          ]
        }
      ]
    },
    {
      "cell_type": "code",
      "source": [
        "# job title, agency and agency id- strip leading and trailing spaces- \n",
        "#replace double spaces with a single space- convert all values of these three columns into upper case\n",
        "\n",
        "df_cpy.JobTitle=df_cpy.JobTitle.str.strip()\n",
        "df_cpy.Agency=df_cpy.Agency.str.strip()\n",
        "df_cpy.AgencyID=df_cpy.AgencyID.str.strip()"
      ],
      "metadata": {
        "id": "LWN21YXi2fAT"
      },
      "execution_count": null,
      "outputs": []
    },
    {
      "cell_type": "code",
      "source": [
        "# converting all values to uppercase and replacing double spaces with single space\n",
        "df_cpy.Agency=df_cpy.Agency.apply(lambda x: x.upper().replace('  ',' '))\n",
        "df_cpy.AgencyID=df_cpy.AgencyID.apply(lambda x: x.upper().replace('  ',' '))\n",
        "df_cpy.JobTitle=df_cpy.JobTitle.apply(lambda x: x.upper().replace('  ',' '))\n"
      ],
      "metadata": {
        "id": "e9dXBYQci4t3"
      },
      "execution_count": null,
      "outputs": []
    },
    {
      "cell_type": "code",
      "source": [
        "df_cpy.head(10)"
      ],
      "metadata": {
        "colab": {
          "base_uri": "https://localhost:8080/",
          "height": 363
        },
        "id": "zXUm1XPUlK4m",
        "outputId": "e23456f6-07b7-4dd0-d2bb-ee68d75b3439"
      },
      "execution_count": null,
      "outputs": [
        {
          "output_type": "execute_result",
          "data": {
            "text/html": [
              "\n",
              "  <div id=\"df-6bfe15cf-faf6-431c-aedb-edce49f81b96\">\n",
              "    <div class=\"colab-df-container\">\n",
              "      <div>\n",
              "<style scoped>\n",
              "    .dataframe tbody tr th:only-of-type {\n",
              "        vertical-align: middle;\n",
              "    }\n",
              "\n",
              "    .dataframe tbody tr th {\n",
              "        vertical-align: top;\n",
              "    }\n",
              "\n",
              "    .dataframe thead th {\n",
              "        text-align: right;\n",
              "    }\n",
              "</style>\n",
              "<table border=\"1\" class=\"dataframe\">\n",
              "  <thead>\n",
              "    <tr style=\"text-align: right;\">\n",
              "      <th></th>\n",
              "      <th>Name</th>\n",
              "      <th>JobTitle</th>\n",
              "      <th>AgencyID</th>\n",
              "      <th>Agency</th>\n",
              "      <th>HireDate</th>\n",
              "      <th>AnnualSalary</th>\n",
              "      <th>HireDay</th>\n",
              "      <th>HireMonth</th>\n",
              "      <th>HireYear</th>\n",
              "    </tr>\n",
              "  </thead>\n",
              "  <tbody>\n",
              "    <tr>\n",
              "      <th>0</th>\n",
              "      <td>Aaron,Keontae E</td>\n",
              "      <td>AIDE BLUE CHIP</td>\n",
              "      <td>W02200</td>\n",
              "      <td>YOUTH SUMMER</td>\n",
              "      <td>06/10/2013</td>\n",
              "      <td>11310.0</td>\n",
              "      <td>10</td>\n",
              "      <td>6</td>\n",
              "      <td>2013</td>\n",
              "    </tr>\n",
              "    <tr>\n",
              "      <th>1</th>\n",
              "      <td>Aaron,Patricia G</td>\n",
              "      <td>FACILITIES/OFFICE SERVICES II</td>\n",
              "      <td>A03031</td>\n",
              "      <td>OED-EMPLOYMENT DEV</td>\n",
              "      <td>10/24/1979</td>\n",
              "      <td>53428.0</td>\n",
              "      <td>24</td>\n",
              "      <td>10</td>\n",
              "      <td>1979</td>\n",
              "    </tr>\n",
              "    <tr>\n",
              "      <th>2</th>\n",
              "      <td>Aaron,Petra L</td>\n",
              "      <td>ASSISTANT STATE'S ATTORNEY</td>\n",
              "      <td>A29005</td>\n",
              "      <td>STATES ATTORNEYS OFFICE</td>\n",
              "      <td>09/25/2006</td>\n",
              "      <td>68300.0</td>\n",
              "      <td>25</td>\n",
              "      <td>9</td>\n",
              "      <td>2006</td>\n",
              "    </tr>\n",
              "    <tr>\n",
              "      <th>3</th>\n",
              "      <td>Abaineh,Yohannes T</td>\n",
              "      <td>EPIDEMIOLOGIST</td>\n",
              "      <td>A65026</td>\n",
              "      <td>HLTH-HEALTH DEPARTMENT</td>\n",
              "      <td>07/23/2009</td>\n",
              "      <td>62000.0</td>\n",
              "      <td>23</td>\n",
              "      <td>7</td>\n",
              "      <td>2009</td>\n",
              "    </tr>\n",
              "    <tr>\n",
              "      <th>4</th>\n",
              "      <td>Abbene,Anthony M</td>\n",
              "      <td>POLICE OFFICER TRAINEE</td>\n",
              "      <td>A99416</td>\n",
              "      <td>POLICE DEPARTMENT</td>\n",
              "      <td>07/24/2013</td>\n",
              "      <td>43999.0</td>\n",
              "      <td>24</td>\n",
              "      <td>7</td>\n",
              "      <td>2013</td>\n",
              "    </tr>\n",
              "    <tr>\n",
              "      <th>5</th>\n",
              "      <td>Abbey,Emmanuel</td>\n",
              "      <td>CONTRACT SERV SPEC II</td>\n",
              "      <td>A40001</td>\n",
              "      <td>M-R INFO TECHNOLOGY</td>\n",
              "      <td>05/01/2013</td>\n",
              "      <td>52000.0</td>\n",
              "      <td>1</td>\n",
              "      <td>5</td>\n",
              "      <td>2013</td>\n",
              "    </tr>\n",
              "    <tr>\n",
              "      <th>6</th>\n",
              "      <td>Abdal-Rahim,Naim A</td>\n",
              "      <td>EMT FIREFIGHTER SUPPRESSION</td>\n",
              "      <td>A64120</td>\n",
              "      <td>FIRE DEPARTMENT</td>\n",
              "      <td>03/30/2011</td>\n",
              "      <td>62175.0</td>\n",
              "      <td>30</td>\n",
              "      <td>3</td>\n",
              "      <td>2011</td>\n",
              "    </tr>\n",
              "    <tr>\n",
              "      <th>7</th>\n",
              "      <td>Abdi,Ezekiel W</td>\n",
              "      <td>POLICE SERGEANT</td>\n",
              "      <td>A99127</td>\n",
              "      <td>POLICE DEPARTMENT</td>\n",
              "      <td>06/14/2007</td>\n",
              "      <td>70918.0</td>\n",
              "      <td>14</td>\n",
              "      <td>6</td>\n",
              "      <td>2007</td>\n",
              "    </tr>\n",
              "    <tr>\n",
              "      <th>8</th>\n",
              "      <td>Abdul Adl,Attrice A</td>\n",
              "      <td>RADIO DISPATCHER SHERIFF</td>\n",
              "      <td>A38410</td>\n",
              "      <td>SHERIFF'S OFFICE</td>\n",
              "      <td>09/02/1999</td>\n",
              "      <td>42438.0</td>\n",
              "      <td>2</td>\n",
              "      <td>9</td>\n",
              "      <td>1999</td>\n",
              "    </tr>\n",
              "    <tr>\n",
              "      <th>9</th>\n",
              "      <td>Abdul Aziz,Hajr E</td>\n",
              "      <td>AIDE BLUE CHIP</td>\n",
              "      <td>W02097</td>\n",
              "      <td>YOUTH SUMMER</td>\n",
              "      <td>06/18/2014</td>\n",
              "      <td>11310.0</td>\n",
              "      <td>18</td>\n",
              "      <td>6</td>\n",
              "      <td>2014</td>\n",
              "    </tr>\n",
              "  </tbody>\n",
              "</table>\n",
              "</div>\n",
              "      <button class=\"colab-df-convert\" onclick=\"convertToInteractive('df-6bfe15cf-faf6-431c-aedb-edce49f81b96')\"\n",
              "              title=\"Convert this dataframe to an interactive table.\"\n",
              "              style=\"display:none;\">\n",
              "        \n",
              "  <svg xmlns=\"http://www.w3.org/2000/svg\" height=\"24px\"viewBox=\"0 0 24 24\"\n",
              "       width=\"24px\">\n",
              "    <path d=\"M0 0h24v24H0V0z\" fill=\"none\"/>\n",
              "    <path d=\"M18.56 5.44l.94 2.06.94-2.06 2.06-.94-2.06-.94-.94-2.06-.94 2.06-2.06.94zm-11 1L8.5 8.5l.94-2.06 2.06-.94-2.06-.94L8.5 2.5l-.94 2.06-2.06.94zm10 10l.94 2.06.94-2.06 2.06-.94-2.06-.94-.94-2.06-.94 2.06-2.06.94z\"/><path d=\"M17.41 7.96l-1.37-1.37c-.4-.4-.92-.59-1.43-.59-.52 0-1.04.2-1.43.59L10.3 9.45l-7.72 7.72c-.78.78-.78 2.05 0 2.83L4 21.41c.39.39.9.59 1.41.59.51 0 1.02-.2 1.41-.59l7.78-7.78 2.81-2.81c.8-.78.8-2.07 0-2.86zM5.41 20L4 18.59l7.72-7.72 1.47 1.35L5.41 20z\"/>\n",
              "  </svg>\n",
              "      </button>\n",
              "      \n",
              "  <style>\n",
              "    .colab-df-container {\n",
              "      display:flex;\n",
              "      flex-wrap:wrap;\n",
              "      gap: 12px;\n",
              "    }\n",
              "\n",
              "    .colab-df-convert {\n",
              "      background-color: #E8F0FE;\n",
              "      border: none;\n",
              "      border-radius: 50%;\n",
              "      cursor: pointer;\n",
              "      display: none;\n",
              "      fill: #1967D2;\n",
              "      height: 32px;\n",
              "      padding: 0 0 0 0;\n",
              "      width: 32px;\n",
              "    }\n",
              "\n",
              "    .colab-df-convert:hover {\n",
              "      background-color: #E2EBFA;\n",
              "      box-shadow: 0px 1px 2px rgba(60, 64, 67, 0.3), 0px 1px 3px 1px rgba(60, 64, 67, 0.15);\n",
              "      fill: #174EA6;\n",
              "    }\n",
              "\n",
              "    [theme=dark] .colab-df-convert {\n",
              "      background-color: #3B4455;\n",
              "      fill: #D2E3FC;\n",
              "    }\n",
              "\n",
              "    [theme=dark] .colab-df-convert:hover {\n",
              "      background-color: #434B5C;\n",
              "      box-shadow: 0px 1px 3px 1px rgba(0, 0, 0, 0.15);\n",
              "      filter: drop-shadow(0px 1px 2px rgba(0, 0, 0, 0.3));\n",
              "      fill: #FFFFFF;\n",
              "    }\n",
              "  </style>\n",
              "\n",
              "      <script>\n",
              "        const buttonEl =\n",
              "          document.querySelector('#df-6bfe15cf-faf6-431c-aedb-edce49f81b96 button.colab-df-convert');\n",
              "        buttonEl.style.display =\n",
              "          google.colab.kernel.accessAllowed ? 'block' : 'none';\n",
              "\n",
              "        async function convertToInteractive(key) {\n",
              "          const element = document.querySelector('#df-6bfe15cf-faf6-431c-aedb-edce49f81b96');\n",
              "          const dataTable =\n",
              "            await google.colab.kernel.invokeFunction('convertToInteractive',\n",
              "                                                     [key], {});\n",
              "          if (!dataTable) return;\n",
              "\n",
              "          const docLinkHtml = 'Like what you see? Visit the ' +\n",
              "            '<a target=\"_blank\" href=https://colab.research.google.com/notebooks/data_table.ipynb>data table notebook</a>'\n",
              "            + ' to learn more about interactive tables.';\n",
              "          element.innerHTML = '';\n",
              "          dataTable['output_type'] = 'display_data';\n",
              "          await google.colab.output.renderOutput(dataTable, element);\n",
              "          const docLink = document.createElement('div');\n",
              "          docLink.innerHTML = docLinkHtml;\n",
              "          element.appendChild(docLink);\n",
              "        }\n",
              "      </script>\n",
              "    </div>\n",
              "  </div>\n",
              "  "
            ],
            "text/plain": [
              "                  Name                       JobTitle  ... HireMonth HireYear\n",
              "0      Aaron,Keontae E                 AIDE BLUE CHIP  ...         6     2013\n",
              "1     Aaron,Patricia G  FACILITIES/OFFICE SERVICES II  ...        10     1979\n",
              "2        Aaron,Petra L     ASSISTANT STATE'S ATTORNEY  ...         9     2006\n",
              "3   Abaineh,Yohannes T                 EPIDEMIOLOGIST  ...         7     2009\n",
              "4     Abbene,Anthony M         POLICE OFFICER TRAINEE  ...         7     2013\n",
              "5       Abbey,Emmanuel          CONTRACT SERV SPEC II  ...         5     2013\n",
              "6   Abdal-Rahim,Naim A    EMT FIREFIGHTER SUPPRESSION  ...         3     2011\n",
              "7       Abdi,Ezekiel W                POLICE SERGEANT  ...         6     2007\n",
              "8  Abdul Adl,Attrice A       RADIO DISPATCHER SHERIFF  ...         9     1999\n",
              "9    Abdul Aziz,Hajr E                 AIDE BLUE CHIP  ...         6     2014\n",
              "\n",
              "[10 rows x 9 columns]"
            ]
          },
          "metadata": {},
          "execution_count": 25
        }
      ]
    },
    {
      "cell_type": "markdown",
      "source": [
        "# Last thing is outliers treatment"
      ],
      "metadata": {
        "id": "e01t1RYpwLSx"
      }
    },
    {
      "cell_type": "code",
      "source": [
        "\n",
        "# plot boxplot for annual \n",
        "plt.figure(figsize=(15,7))\n",
        "df_cpy.AnnualSalary.plot.box()\n"
      ],
      "metadata": {
        "id": "QtX7Wg4ykHme",
        "colab": {
          "base_uri": "https://localhost:8080/",
          "height": 448
        },
        "outputId": "e9ad9355-4a53-43b9-ac56-65876829ec17"
      },
      "execution_count": null,
      "outputs": [
        {
          "output_type": "execute_result",
          "data": {
            "text/plain": [
              "<matplotlib.axes._subplots.AxesSubplot at 0x7f6ea25c0fd0>"
            ]
          },
          "metadata": {},
          "execution_count": 26
        },
        {
          "output_type": "display_data",
          "data": {
            "image/png": "[encoded data removed]",
            "text/plain": [
              "<Figure size 1080x504 with 1 Axes>"
            ]
          },
          "metadata": {
            "needs_background": "light"
          }
        }
      ]
    },
    {
      "cell_type": "code",
      "source": [
        "# descriptive statistics\n",
        "df_cpy.AnnualSalary.describe()"
      ],
      "metadata": {
        "colab": {
          "base_uri": "https://localhost:8080/"
        },
        "id": "toU6tKSEv1cF",
        "outputId": "84567bae-2b84-4fa9-923a-69e811fdb72f"
      },
      "execution_count": null,
      "outputs": [
        {
          "output_type": "execute_result",
          "data": {
            "text/plain": [
              "count     18911.000000\n",
              "mean      39660.421889\n",
              "std       25163.465942\n",
              "min           0.000000\n",
              "25%       11310.000000\n",
              "50%       36203.000000\n",
              "75%       60300.000000\n",
              "max      238772.000000\n",
              "Name: AnnualSalary, dtype: float64"
            ]
          },
          "metadata": {},
          "execution_count": 27
        }
      ]
    },
    {
      "cell_type": "code",
      "source": [
        "df_cpy=df_cpy[df_cpy.AnnualSalary<150000]"
      ],
      "metadata": {
        "id": "A3qZGzNnwo_L"
      },
      "execution_count": null,
      "outputs": []
    },
    {
      "cell_type": "code",
      "source": [
        "df_cpy.shape"
      ],
      "metadata": {
        "colab": {
          "base_uri": "https://localhost:8080/"
        },
        "id": "TNzLwiY4wo0c",
        "outputId": "8822ac72-1c5b-4ff9-e400-89da16917294"
      },
      "execution_count": null,
      "outputs": [
        {
          "output_type": "execute_result",
          "data": {
            "text/plain": [
              "(18895, 9)"
            ]
          },
          "metadata": {},
          "execution_count": 29
        }
      ]
    },
    {
      "cell_type": "code",
      "source": [
        "plt.figure(figsize=(10,5))\n",
        "plt.boxplot(df_cpy.AnnualSalary)"
      ],
      "metadata": {
        "colab": {
          "base_uri": "https://localhost:8080/",
          "height": 459
        },
        "id": "rndTchW3xdw0",
        "outputId": "c2644e9e-6e7e-4251-ae61-7588d97da1e6"
      },
      "execution_count": null,
      "outputs": [
        {
          "output_type": "execute_result",
          "data": {
            "text/plain": [
              "{'boxes': [<matplotlib.lines.Line2D at 0x7f6ea1bf43d0>],\n",
              " 'caps': [<matplotlib.lines.Line2D at 0x7f6ea1bf9450>,\n",
              "  <matplotlib.lines.Line2D at 0x7f6ea1bf9990>],\n",
              " 'fliers': [<matplotlib.lines.Line2D at 0x7f6ea1c00490>],\n",
              " 'means': [],\n",
              " 'medians': [<matplotlib.lines.Line2D at 0x7f6ea1bf9f10>],\n",
              " 'whiskers': [<matplotlib.lines.Line2D at 0x7f6ea1bf4990>,\n",
              "  <matplotlib.lines.Line2D at 0x7f6ea1bf4ed0>]}"
            ]
          },
          "metadata": {},
          "execution_count": 30
        },
        {
          "output_type": "display_data",
          "data": {
            "image/png": "[encoded data removed]",
            "text/plain": [
              "<Figure size 720x360 with 1 Axes>"
            ]
          },
          "metadata": {
            "needs_background": "light"
          }
        }
      ]
    },
    {
      "cell_type": "markdown",
      "source": [
        "# EDA"
      ],
      "metadata": {
        "id": "NMp_YLm-yD3k"
      }
    },
    {
      "cell_type": "code",
      "source": [
        "# Check distribution of data\n",
        "plt.figure(figsize=(10,5))\n",
        "sb.distplot(df_cpy.AnnualSalary)\n",
        "plt.title(\"Annual salary distribution\",fontsize=17)"
      ],
      "metadata": {
        "colab": {
          "base_uri": "https://localhost:8080/",
          "height": 371
        },
        "id": "RN9uwnjWx0-z",
        "outputId": "991d6d34-4bbf-4c05-9115-9f0380f687c1"
      },
      "execution_count": null,
      "outputs": [
        {
          "output_type": "execute_result",
          "data": {
            "text/plain": [
              "Text(0.5, 1.0, 'Annual salary distribution')"
            ]
          },
          "metadata": {},
          "execution_count": 31
        },
        {
          "output_type": "display_data",
          "data": {
            "image/png": "[encoded data removed]",
            "text/plain": [
              "<Figure size 720x360 with 1 Axes>"
            ]
          },
          "metadata": {
            "needs_background": "light"
          }
        }
      ]
    },
    {
      "cell_type": "code",
      "source": [
        "# Find top 10 jobs\n",
        "df_cpy['JobTitle'].value_counts()[:10].plot.bar()"
      ],
      "metadata": {
        "colab": {
          "base_uri": "https://localhost:8080/",
          "height": 435
        },
        "id": "mYlFBrEnyS7j",
        "outputId": "707b2761-1e6f-4698-9d04-b8a77a517a5e"
      },
      "execution_count": null,
      "outputs": [
        {
          "output_type": "execute_result",
          "data": {
            "text/plain": [
              "<matplotlib.axes._subplots.AxesSubplot at 0x7f6ea1b63c50>"
            ]
          },
          "metadata": {},
          "execution_count": 32
        },
        {
          "output_type": "display_data",
          "data": {
            "image/png": "[encoded data removed]",
            "text/plain": [
              "<Figure size 432x288 with 1 Axes>"
            ]
          },
          "metadata": {
            "needs_background": "light"
          }
        }
      ]
    },
    {
      "cell_type": "code",
      "source": [
        "# Another way of doing \n",
        "plt.figure(figsize=(10,5))\n",
        "df_cpy.groupby('JobTitle')['Name'].count().sort_values(ascending=False).head(10).plot.bar()\n",
        "plt.ylabel(\"No. of people working\")\n",
        "plt.title(\"Top 10 jobs for which is highest\",fontsize=17)"
      ],
      "metadata": {
        "colab": {
          "base_uri": "https://localhost:8080/",
          "height": 522
        },
        "id": "wd295V3Yy9r7",
        "outputId": "f3a7ddc5-4843-4734-c315-83052616215d"
      },
      "execution_count": null,
      "outputs": [
        {
          "output_type": "execute_result",
          "data": {
            "text/plain": [
              "Text(0.5, 1.0, 'Top 10 jobs for which is highest')"
            ]
          },
          "metadata": {},
          "execution_count": 33
        },
        {
          "output_type": "display_data",
          "data": {
            "image/png": "[encoded data removed]",
            "text/plain": [
              "<Figure size 720x360 with 1 Axes>"
            ]
          },
          "metadata": {
            "needs_background": "light"
          }
        }
      ]
    },
    {
      "cell_type": "code",
      "source": [
        "# Top 10 paying jobs\n",
        "plt.figure(figsize=(10,5))\n",
        "df_cpy.groupby(['JobTitle'])['AnnualSalary'].mean().sort_values(ascending=False).head(10).plot.bar()\n",
        "plt.ylabel(\"Average salary\")\n",
        "plt.title(\"Top 10 highest paying jobs\",fontsize=17)"
      ],
      "metadata": {
        "colab": {
          "base_uri": "https://localhost:8080/",
          "height": 512
        },
        "id": "qHVHwkQ5zq-C",
        "outputId": "9c004dd3-f053-48f8-aeb6-6097e873a39d"
      },
      "execution_count": null,
      "outputs": [
        {
          "output_type": "execute_result",
          "data": {
            "text/plain": [
              "Text(0.5, 1.0, 'Top 10 highest paying jobs')"
            ]
          },
          "metadata": {},
          "execution_count": 34
        },
        {
          "output_type": "display_data",
          "data": {
            "image/png": "[encoded data removed]",
            "text/plain": [
              "<Figure size 720x360 with 1 Axes>"
            ]
          },
          "metadata": {
            "needs_background": "light"
          }
        }
      ]
    },
    {
      "cell_type": "code",
      "source": [
        "# find the total avearge salary\n",
        "mean_sal=df_cpy.AnnualSalary.mean()\n",
        "\n",
        "#Find the number of jobs paying more than total average salary\n",
        "\n",
        "good_pay_jobs=df_cpy.groupby(['JobTitle'])['AnnualSalary'].mean().reset_index()\n",
        "good_pay_jobs[good_pay_jobs['AnnualSalary']>mean_sal]['JobTitle'].count()"
      ],
      "metadata": {
        "colab": {
          "base_uri": "https://localhost:8080/"
        },
        "id": "L9dlCYBS0S4v",
        "outputId": "ca200f7c-7d91-4ea7-e47b-7ba74c9c08e2"
      },
      "execution_count": null,
      "outputs": [
        {
          "output_type": "execute_result",
          "data": {
            "text/plain": [
              "798"
            ]
          },
          "metadata": {},
          "execution_count": 35
        }
      ]
    },
    {
      "cell_type": "code",
      "source": [
        "# Jobs paying more than total average salary\n",
        "good_pay_jobs[good_pay_jobs['AnnualSalary']>mean_sal]['JobTitle']"
      ],
      "metadata": {
        "colab": {
          "base_uri": "https://localhost:8080/"
        },
        "id": "523RAkmg0S1N",
        "outputId": "d910c460-a3d6-4106-9814-9efdadceaff9"
      },
      "execution_count": null,
      "outputs": [
        {
          "output_type": "execute_result",
          "data": {
            "text/plain": [
              "0                 911 LEAD OPERATOR\n",
              "1                      911 OPERATOR\n",
              "2           911 OPERATOR SUPERVISOR\n",
              "3                 ACCOUNT EXECUTIVE\n",
              "4                      ACCOUNTANT I\n",
              "                   ...             \n",
              "1050           ZONING ADMINISTRATOR\n",
              "1051    ZONING APPEALS ADVISOR BMZA\n",
              "1052     ZONING ENFORCEMENT OFFICER\n",
              "1053              ZONING EXAMINER I\n",
              "1054             ZONING EXAMINER II\n",
              "Name: JobTitle, Length: 798, dtype: object"
            ]
          },
          "metadata": {},
          "execution_count": 36
        }
      ]
    },
    {
      "cell_type": "code",
      "source": [
        "# Find 10 job AgencyID has more number of employee\n",
        "high_emp=df_cpy.AgencyID.value_counts()[:10]\n",
        "plt.figure(figsize=(10,5))\n",
        "high_emp.plot.bar()"
      ],
      "metadata": {
        "colab": {
          "base_uri": "https://localhost:8080/",
          "height": 368
        },
        "id": "i7A_mIBb6HQK",
        "outputId": "4a02e91c-dc15-4f1b-d871-309f28f5043c"
      },
      "execution_count": null,
      "outputs": [
        {
          "output_type": "execute_result",
          "data": {
            "text/plain": [
              "<matplotlib.axes._subplots.AxesSubplot at 0x7f6e971113d0>"
            ]
          },
          "metadata": {},
          "execution_count": 37
        },
        {
          "output_type": "display_data",
          "data": {
            "image/png": "[encoded data removed]",
            "text/plain": [
              "<Figure size 720x360 with 1 Axes>"
            ]
          },
          "metadata": {
            "needs_background": "light"
          }
        }
      ]
    },
    {
      "cell_type": "code",
      "source": [
        "df_cpy.groupby(['AgencyID'])['Name'].count().sort_values(ascending=False).head(10).plot.bar()\n",
        "plt.ylabel(\"\")"
      ],
      "metadata": {
        "id": "Uj85JSQy5hrz",
        "colab": {
          "base_uri": "https://localhost:8080/",
          "height": 328
        },
        "outputId": "ed706e89-8f8f-441a-e42d-d5bdf25efe77"
      },
      "execution_count": null,
      "outputs": [
        {
          "output_type": "execute_result",
          "data": {
            "text/plain": [
              "Text(0, 0.5, '')"
            ]
          },
          "metadata": {},
          "execution_count": 38
        },
        {
          "output_type": "display_data",
          "data": {
            "image/png": "[encoded data removed]",
            "text/plain": [
              "<Figure size 432x288 with 1 Axes>"
            ]
          },
          "metadata": {
            "needs_background": "light"
          }
        }
      ]
    },
    {
      "cell_type": "code",
      "source": [
        "# That in which year what was the max salary offered\n",
        "df_cpy.groupby(['HireYear'])['AnnualSalary'].mean().sort_values(ascending=False)[:10].plot.bar()\n",
        "plt.ylabel(\"Average salary\")\n",
        "plt.title(\"Average salary of employees based on year\")"
      ],
      "metadata": {
        "colab": {
          "base_uri": "https://localhost:8080/",
          "height": 328
        },
        "id": "ONEh6Dxi9NhC",
        "outputId": "8daf1b3b-6d4b-4266-c4f7-9056e63fa90f"
      },
      "execution_count": null,
      "outputs": [
        {
          "output_type": "execute_result",
          "data": {
            "text/plain": [
              "Text(0.5, 1.0, 'Average salary of employees based on year')"
            ]
          },
          "metadata": {},
          "execution_count": 39
        },
        {
          "output_type": "display_data",
          "data": {
            "image/png": "[encoded data removed]",
            "text/plain": [
              "<Figure size 432x288 with 1 Axes>"
            ]
          },
          "metadata": {
            "needs_background": "light"
          }
        }
      ]
    },
    {
      "cell_type": "code",
      "source": [
        "# That in which year what was the least salary offered\n",
        "df_cpy.groupby(['HireYear'])['AnnualSalary'].mean().sort_values()[:10].plot.bar()\n",
        "plt.ylabel(\"Average salary\")\n",
        "plt.title(\"Average salary of employees based on year\")"
      ],
      "metadata": {
        "colab": {
          "base_uri": "https://localhost:8080/",
          "height": 328
        },
        "id": "842__6SE3Qhe",
        "outputId": "cdc3c8f3-f038-405b-f116-7ee9eaab27f8"
      },
      "execution_count": null,
      "outputs": [
        {
          "output_type": "execute_result",
          "data": {
            "text/plain": [
              "Text(0.5, 1.0, 'Average salary of employees based on year')"
            ]
          },
          "metadata": {},
          "execution_count": 40
        },
        {
          "output_type": "display_data",
          "data": {
            "image/png": "[encoded data removed]",
            "text/plain": [
              "<Figure size 432x288 with 1 Axes>"
            ]
          },
          "metadata": {
            "needs_background": "light"
          }
        }
      ]
    },
    {
      "cell_type": "code",
      "source": [
        "# Check  if month has any particular effect on hiring\n",
        "sb.countplot(df_cpy.HireMonth)"
      ],
      "metadata": {
        "colab": {
          "base_uri": "https://localhost:8080/",
          "height": 296
        },
        "id": "wwGgN61o7PPQ",
        "outputId": "933c64ee-cfde-4ba5-a3bd-151a87fe3012"
      },
      "execution_count": null,
      "outputs": [
        {
          "output_type": "execute_result",
          "data": {
            "text/plain": [
              "<matplotlib.axes._subplots.AxesSubplot at 0x7f6e96f03d50>"
            ]
          },
          "metadata": {},
          "execution_count": 41
        },
        {
          "output_type": "display_data",
          "data": {
            "image/png": "[encoded data removed]",
            "text/plain": [
              "<Figure size 432x288 with 1 Axes>"
            ]
          },
          "metadata": {
            "needs_background": "light"
          }
        }
      ]
    },
    {
      "cell_type": "code",
      "source": [
        "# average salary in each month\n",
        "plt.figure(figsize=(10,5)) \n",
        "df_cpy.groupby(['HireMonth'])['AnnualSalary'].mean().sort_values(ascending=False).plot.bar()\n",
        "plt.ylabel(\"average salary\")\n",
        "plt.title(\"Average salary based on month\")"
      ],
      "metadata": {
        "colab": {
          "base_uri": "https://localhost:8080/",
          "height": 370
        },
        "id": "HOV36dBd9eBG",
        "outputId": "e86dd9dc-a89a-42b5-c097-da56f8580ffd"
      },
      "execution_count": null,
      "outputs": [
        {
          "output_type": "execute_result",
          "data": {
            "text/plain": [
              "Text(0.5, 1.0, 'Average salary based on month')"
            ]
          },
          "metadata": {},
          "execution_count": 42
        },
        {
          "output_type": "display_data",
          "data": {
            "image/png": "[encoded data removed]",
            "text/plain": [
              "<Figure size 720x360 with 1 Axes>"
            ]
          },
          "metadata": {
            "needs_background": "light"
          }
        }
      ]
    },
    {
      "cell_type": "code",
      "source": [
        "## Multivariate analysis   we use pairplot for multivariate analysis\n",
        "plt.figure(figsize=(15,20))\n",
        "sb.pairplot(df_cpy)       # we use joinplot for bivariate analysis"
      ],
      "metadata": {
        "colab": {
          "base_uri": "https://localhost:8080/",
          "height": 761
        },
        "id": "Q3-LcFgl-T9I",
        "outputId": "5fac5e78-12ec-4551-d005-1610a581bcb2"
      },
      "execution_count": null,
      "outputs": [
        {
          "output_type": "execute_result",
          "data": {
            "text/plain": [
              "<seaborn.axisgrid.PairGrid at 0x7f6e96e20cd0>"
            ]
          },
          "metadata": {},
          "execution_count": 43
        },
        {
          "output_type": "display_data",
          "data": {
            "text/plain": [
              "<Figure size 1080x1440 with 0 Axes>"
            ]
          },
          "metadata": {}
        },
        {
          "output_type": "display_data",
          "data": {
            "image/png": "[encoded data removed]",
            "text/plain": [
              "<Figure size 720x720 with 20 Axes>"
            ]
          },
          "metadata": {
            "needs_background": "light"
          }
        }
      ]
    },
    {
      "cell_type": "code",
      "source": [
        "# plot heatmap for corr()\n",
        "plt.figure(figsize=(10,5))\n",
        "sb.heatmap(df_cpy.corr(),annot=True)"
      ],
      "metadata": {
        "colab": {
          "base_uri": "https://localhost:8080/",
          "height": 342
        },
        "id": "Xx16xUxkANjv",
        "outputId": "09fd8a4d-6fa1-4158-8a61-a4ba21ffc0e5"
      },
      "execution_count": null,
      "outputs": [
        {
          "output_type": "execute_result",
          "data": {
            "text/plain": [
              "<matplotlib.axes._subplots.AxesSubplot at 0x7f6e964759d0>"
            ]
          },
          "metadata": {},
          "execution_count": 44
        },
        {
          "output_type": "display_data",
          "data": {
            "image/png": "[encoded data removed]",
            "text/plain": [
              "<Figure size 720x360 with 2 Axes>"
            ]
          },
          "metadata": {
            "needs_background": "light"
          }
        }
      ]
    },
    {
      "cell_type": "markdown",
      "source": [
        "# Feature Engineering"
      ],
      "metadata": {
        "id": "97hjzRfzCOHs"
      }
    },
    {
      "cell_type": "code",
      "source": [
        "df_cpy.head()"
      ],
      "metadata": {
        "colab": {
          "base_uri": "https://localhost:8080/",
          "height": 206
        },
        "id": "VVD-rX58B6R3",
        "outputId": "7f5b6d0b-603d-4aeb-9155-2f78d03f306c"
      },
      "execution_count": null,
      "outputs": [
        {
          "output_type": "execute_result",
          "data": {
            "text/html": [
              "\n",
              "  <div id=\"df-c6b2db6d-9e2a-4e45-ba5e-e9121093d051\">\n",
              "    <div class=\"colab-df-container\">\n",
              "      <div>\n",
              "<style scoped>\n",
              "    .dataframe tbody tr th:only-of-type {\n",
              "        vertical-align: middle;\n",
              "    }\n",
              "\n",
              "    .dataframe tbody tr th {\n",
              "        vertical-align: top;\n",
              "    }\n",
              "\n",
              "    .dataframe thead th {\n",
              "        text-align: right;\n",
              "    }\n",
              "</style>\n",
              "<table border=\"1\" class=\"dataframe\">\n",
              "  <thead>\n",
              "    <tr style=\"text-align: right;\">\n",
              "      <th></th>\n",
              "      <th>Name</th>\n",
              "      <th>JobTitle</th>\n",
              "      <th>AgencyID</th>\n",
              "      <th>Agency</th>\n",
              "      <th>HireDate</th>\n",
              "      <th>AnnualSalary</th>\n",
              "      <th>HireDay</th>\n",
              "      <th>HireMonth</th>\n",
              "      <th>HireYear</th>\n",
              "    </tr>\n",
              "  </thead>\n",
              "  <tbody>\n",
              "    <tr>\n",
              "      <th>0</th>\n",
              "      <td>Aaron,Keontae E</td>\n",
              "      <td>AIDE BLUE CHIP</td>\n",
              "      <td>W02200</td>\n",
              "      <td>YOUTH SUMMER</td>\n",
              "      <td>06/10/2013</td>\n",
              "      <td>11310.0</td>\n",
              "      <td>10</td>\n",
              "      <td>6</td>\n",
              "      <td>2013</td>\n",
              "    </tr>\n",
              "    <tr>\n",
              "      <th>1</th>\n",
              "      <td>Aaron,Patricia G</td>\n",
              "      <td>FACILITIES/OFFICE SERVICES II</td>\n",
              "      <td>A03031</td>\n",
              "      <td>OED-EMPLOYMENT DEV</td>\n",
              "      <td>10/24/1979</td>\n",
              "      <td>53428.0</td>\n",
              "      <td>24</td>\n",
              "      <td>10</td>\n",
              "      <td>1979</td>\n",
              "    </tr>\n",
              "    <tr>\n",
              "      <th>2</th>\n",
              "      <td>Aaron,Petra L</td>\n",
              "      <td>ASSISTANT STATE'S ATTORNEY</td>\n",
              "      <td>A29005</td>\n",
              "      <td>STATES ATTORNEYS OFFICE</td>\n",
              "      <td>09/25/2006</td>\n",
              "      <td>68300.0</td>\n",
              "      <td>25</td>\n",
              "      <td>9</td>\n",
              "      <td>2006</td>\n",
              "    </tr>\n",
              "    <tr>\n",
              "      <th>3</th>\n",
              "      <td>Abaineh,Yohannes T</td>\n",
              "      <td>EPIDEMIOLOGIST</td>\n",
              "      <td>A65026</td>\n",
              "      <td>HLTH-HEALTH DEPARTMENT</td>\n",
              "      <td>07/23/2009</td>\n",
              "      <td>62000.0</td>\n",
              "      <td>23</td>\n",
              "      <td>7</td>\n",
              "      <td>2009</td>\n",
              "    </tr>\n",
              "    <tr>\n",
              "      <th>4</th>\n",
              "      <td>Abbene,Anthony M</td>\n",
              "      <td>POLICE OFFICER TRAINEE</td>\n",
              "      <td>A99416</td>\n",
              "      <td>POLICE DEPARTMENT</td>\n",
              "      <td>07/24/2013</td>\n",
              "      <td>43999.0</td>\n",
              "      <td>24</td>\n",
              "      <td>7</td>\n",
              "      <td>2013</td>\n",
              "    </tr>\n",
              "  </tbody>\n",
              "</table>\n",
              "</div>\n",
              "      <button class=\"colab-df-convert\" onclick=\"convertToInteractive('df-c6b2db6d-9e2a-4e45-ba5e-e9121093d051')\"\n",
              "              title=\"Convert this dataframe to an interactive table.\"\n",
              "              style=\"display:none;\">\n",
              "        \n",
              "  <svg xmlns=\"http://www.w3.org/2000/svg\" height=\"24px\"viewBox=\"0 0 24 24\"\n",
              "       width=\"24px\">\n",
              "    <path d=\"M0 0h24v24H0V0z\" fill=\"none\"/>\n",
              "    <path d=\"M18.56 5.44l.94 2.06.94-2.06 2.06-.94-2.06-.94-.94-2.06-.94 2.06-2.06.94zm-11 1L8.5 8.5l.94-2.06 2.06-.94-2.06-.94L8.5 2.5l-.94 2.06-2.06.94zm10 10l.94 2.06.94-2.06 2.06-.94-2.06-.94-.94-2.06-.94 2.06-2.06.94z\"/><path d=\"M17.41 7.96l-1.37-1.37c-.4-.4-.92-.59-1.43-.59-.52 0-1.04.2-1.43.59L10.3 9.45l-7.72 7.72c-.78.78-.78 2.05 0 2.83L4 21.41c.39.39.9.59 1.41.59.51 0 1.02-.2 1.41-.59l7.78-7.78 2.81-2.81c.8-.78.8-2.07 0-2.86zM5.41 20L4 18.59l7.72-7.72 1.47 1.35L5.41 20z\"/>\n",
              "  </svg>\n",
              "      </button>\n",
              "      \n",
              "  <style>\n",
              "    .colab-df-container {\n",
              "      display:flex;\n",
              "      flex-wrap:wrap;\n",
              "      gap: 12px;\n",
              "    }\n",
              "\n",
              "    .colab-df-convert {\n",
              "      background-color: #E8F0FE;\n",
              "      border: none;\n",
              "      border-radius: 50%;\n",
              "      cursor: pointer;\n",
              "      display: none;\n",
              "      fill: #1967D2;\n",
              "      height: 32px;\n",
              "      padding: 0 0 0 0;\n",
              "      width: 32px;\n",
              "    }\n",
              "\n",
              "    .colab-df-convert:hover {\n",
              "      background-color: #E2EBFA;\n",
              "      box-shadow: 0px 1px 2px rgba(60, 64, 67, 0.3), 0px 1px 3px 1px rgba(60, 64, 67, 0.15);\n",
              "      fill: #174EA6;\n",
              "    }\n",
              "\n",
              "    [theme=dark] .colab-df-convert {\n",
              "      background-color: #3B4455;\n",
              "      fill: #D2E3FC;\n",
              "    }\n",
              "\n",
              "    [theme=dark] .colab-df-convert:hover {\n",
              "      background-color: #434B5C;\n",
              "      box-shadow: 0px 1px 3px 1px rgba(0, 0, 0, 0.15);\n",
              "      filter: drop-shadow(0px 1px 2px rgba(0, 0, 0, 0.3));\n",
              "      fill: #FFFFFF;\n",
              "    }\n",
              "  </style>\n",
              "\n",
              "      <script>\n",
              "        const buttonEl =\n",
              "          document.querySelector('#df-c6b2db6d-9e2a-4e45-ba5e-e9121093d051 button.colab-df-convert');\n",
              "        buttonEl.style.display =\n",
              "          google.colab.kernel.accessAllowed ? 'block' : 'none';\n",
              "\n",
              "        async function convertToInteractive(key) {\n",
              "          const element = document.querySelector('#df-c6b2db6d-9e2a-4e45-ba5e-e9121093d051');\n",
              "          const dataTable =\n",
              "            await google.colab.kernel.invokeFunction('convertToInteractive',\n",
              "                                                     [key], {});\n",
              "          if (!dataTable) return;\n",
              "\n",
              "          const docLinkHtml = 'Like what you see? Visit the ' +\n",
              "            '<a target=\"_blank\" href=https://colab.research.google.com/notebooks/data_table.ipynb>data table notebook</a>'\n",
              "            + ' to learn more about interactive tables.';\n",
              "          element.innerHTML = '';\n",
              "          dataTable['output_type'] = 'display_data';\n",
              "          await google.colab.output.renderOutput(dataTable, element);\n",
              "          const docLink = document.createElement('div');\n",
              "          docLink.innerHTML = docLinkHtml;\n",
              "          element.appendChild(docLink);\n",
              "        }\n",
              "      </script>\n",
              "    </div>\n",
              "  </div>\n",
              "  "
            ],
            "text/plain": [
              "                 Name                       JobTitle  ... HireMonth HireYear\n",
              "0     Aaron,Keontae E                 AIDE BLUE CHIP  ...         6     2013\n",
              "1    Aaron,Patricia G  FACILITIES/OFFICE SERVICES II  ...        10     1979\n",
              "2       Aaron,Petra L     ASSISTANT STATE'S ATTORNEY  ...         9     2006\n",
              "3  Abaineh,Yohannes T                 EPIDEMIOLOGIST  ...         7     2009\n",
              "4    Abbene,Anthony M         POLICE OFFICER TRAINEE  ...         7     2013\n",
              "\n",
              "[5 rows x 9 columns]"
            ]
          },
          "metadata": {},
          "execution_count": 45
        }
      ]
    },
    {
      "cell_type": "code",
      "source": [
        "## Apply mean encoding for JobTitle\n",
        "\n",
        "mean_job= df_cpy.groupby(['JobTitle'])['AnnualSalary'].mean()"
      ],
      "metadata": {
        "id": "N1UwPllKCsl3"
      },
      "execution_count": null,
      "outputs": []
    },
    {
      "cell_type": "code",
      "source": [
        "mean_job"
      ],
      "metadata": {
        "colab": {
          "base_uri": "https://localhost:8080/"
        },
        "id": "AUJNsXgRD3T9",
        "outputId": "cd94f29c-04c1-4185-cab6-2d3001c4454c"
      },
      "execution_count": null,
      "outputs": [
        {
          "output_type": "execute_result",
          "data": {
            "text/plain": [
              "JobTitle\n",
              "911 LEAD OPERATOR              47886.000000\n",
              "911 OPERATOR                   42835.743590\n",
              "911 OPERATOR SUPERVISOR        54797.500000\n",
              "ACCOUNT EXECUTIVE              42960.000000\n",
              "ACCOUNTANT I                   46316.642857\n",
              "                                   ...     \n",
              "ZONING ADMINISTRATOR           82100.000000\n",
              "ZONING APPEALS ADVISOR BMZA    59274.000000\n",
              "ZONING ENFORCEMENT OFFICER     62000.000000\n",
              "ZONING EXAMINER I              43674.000000\n",
              "ZONING EXAMINER II             53568.000000\n",
              "Name: AnnualSalary, Length: 1055, dtype: float64"
            ]
          },
          "metadata": {},
          "execution_count": 47
        }
      ]
    },
    {
      "cell_type": "code",
      "source": [
        "df_cpy['JobTitle']=df_cpy['JobTitle'].map(mean_job)\n",
        "df_cpy.tail()"
      ],
      "metadata": {
        "colab": {
          "base_uri": "https://localhost:8080/",
          "height": 206
        },
        "id": "8PBxkT0wDMBv",
        "outputId": "ad5cb478-49ec-42ed-c932-3171f4bc100f"
      },
      "execution_count": null,
      "outputs": [
        {
          "output_type": "execute_result",
          "data": {
            "text/html": [
              "\n",
              "  <div id=\"df-69952972-878f-4247-9678-af684a9d4387\">\n",
              "    <div class=\"colab-df-container\">\n",
              "      <div>\n",
              "<style scoped>\n",
              "    .dataframe tbody tr th:only-of-type {\n",
              "        vertical-align: middle;\n",
              "    }\n",
              "\n",
              "    .dataframe tbody tr th {\n",
              "        vertical-align: top;\n",
              "    }\n",
              "\n",
              "    .dataframe thead th {\n",
              "        text-align: right;\n",
              "    }\n",
              "</style>\n",
              "<table border=\"1\" class=\"dataframe\">\n",
              "  <thead>\n",
              "    <tr style=\"text-align: right;\">\n",
              "      <th></th>\n",
              "      <th>Name</th>\n",
              "      <th>JobTitle</th>\n",
              "      <th>AgencyID</th>\n",
              "      <th>Agency</th>\n",
              "      <th>HireDate</th>\n",
              "      <th>AnnualSalary</th>\n",
              "      <th>HireDay</th>\n",
              "      <th>HireMonth</th>\n",
              "      <th>HireYear</th>\n",
              "    </tr>\n",
              "  </thead>\n",
              "  <tbody>\n",
              "    <tr>\n",
              "      <th>18976</th>\n",
              "      <td>Zotamou,Jean Marie D</td>\n",
              "      <td>11313.967200</td>\n",
              "      <td>W02235</td>\n",
              "      <td>YOUTH SUMMER</td>\n",
              "      <td>05/21/2014</td>\n",
              "      <td>11310.0</td>\n",
              "      <td>21</td>\n",
              "      <td>5</td>\n",
              "      <td>2014</td>\n",
              "    </tr>\n",
              "    <tr>\n",
              "      <th>18977</th>\n",
              "      <td>Zotamou,Pivot D</td>\n",
              "      <td>11313.967200</td>\n",
              "      <td>W02629</td>\n",
              "      <td>YOUTH SUMMER</td>\n",
              "      <td>05/21/2014</td>\n",
              "      <td>11310.0</td>\n",
              "      <td>21</td>\n",
              "      <td>5</td>\n",
              "      <td>2014</td>\n",
              "    </tr>\n",
              "    <tr>\n",
              "      <th>18978</th>\n",
              "      <td>Zovistoski,Zachary D</td>\n",
              "      <td>44531.160494</td>\n",
              "      <td>A99416</td>\n",
              "      <td>POLICE DEPARTMENT</td>\n",
              "      <td>12/17/2013</td>\n",
              "      <td>43999.0</td>\n",
              "      <td>17</td>\n",
              "      <td>12</td>\n",
              "      <td>2013</td>\n",
              "    </tr>\n",
              "    <tr>\n",
              "      <th>18979</th>\n",
              "      <td>Zubyk,Stanislav T</td>\n",
              "      <td>60588.139335</td>\n",
              "      <td>A99262</td>\n",
              "      <td>POLICE DEPARTMENT</td>\n",
              "      <td>01/23/2013</td>\n",
              "      <td>44104.0</td>\n",
              "      <td>23</td>\n",
              "      <td>1</td>\n",
              "      <td>2013</td>\n",
              "    </tr>\n",
              "    <tr>\n",
              "      <th>18980</th>\n",
              "      <td>Zukowski,Charles J</td>\n",
              "      <td>53368.428571</td>\n",
              "      <td>A50206</td>\n",
              "      <td>DPW-WATER &amp; WASTE WATER</td>\n",
              "      <td>10/15/1979</td>\n",
              "      <td>53568.0</td>\n",
              "      <td>15</td>\n",
              "      <td>10</td>\n",
              "      <td>1979</td>\n",
              "    </tr>\n",
              "  </tbody>\n",
              "</table>\n",
              "</div>\n",
              "      <button class=\"colab-df-convert\" onclick=\"convertToInteractive('df-69952972-878f-4247-9678-af684a9d4387')\"\n",
              "              title=\"Convert this dataframe to an interactive table.\"\n",
              "              style=\"display:none;\">\n",
              "        \n",
              "  <svg xmlns=\"http://www.w3.org/2000/svg\" height=\"24px\"viewBox=\"0 0 24 24\"\n",
              "       width=\"24px\">\n",
              "    <path d=\"M0 0h24v24H0V0z\" fill=\"none\"/>\n",
              "    <path d=\"M18.56 5.44l.94 2.06.94-2.06 2.06-.94-2.06-.94-.94-2.06-.94 2.06-2.06.94zm-11 1L8.5 8.5l.94-2.06 2.06-.94-2.06-.94L8.5 2.5l-.94 2.06-2.06.94zm10 10l.94 2.06.94-2.06 2.06-.94-2.06-.94-.94-2.06-.94 2.06-2.06.94z\"/><path d=\"M17.41 7.96l-1.37-1.37c-.4-.4-.92-.59-1.43-.59-.52 0-1.04.2-1.43.59L10.3 9.45l-7.72 7.72c-.78.78-.78 2.05 0 2.83L4 21.41c.39.39.9.59 1.41.59.51 0 1.02-.2 1.41-.59l7.78-7.78 2.81-2.81c.8-.78.8-2.07 0-2.86zM5.41 20L4 18.59l7.72-7.72 1.47 1.35L5.41 20z\"/>\n",
              "  </svg>\n",
              "      </button>\n",
              "      \n",
              "  <style>\n",
              "    .colab-df-container {\n",
              "      display:flex;\n",
              "      flex-wrap:wrap;\n",
              "      gap: 12px;\n",
              "    }\n",
              "\n",
              "    .colab-df-convert {\n",
              "      background-color: #E8F0FE;\n",
              "      border: none;\n",
              "      border-radius: 50%;\n",
              "      cursor: pointer;\n",
              "      display: none;\n",
              "      fill: #1967D2;\n",
              "      height: 32px;\n",
              "      padding: 0 0 0 0;\n",
              "      width: 32px;\n",
              "    }\n",
              "\n",
              "    .colab-df-convert:hover {\n",
              "      background-color: #E2EBFA;\n",
              "      box-shadow: 0px 1px 2px rgba(60, 64, 67, 0.3), 0px 1px 3px 1px rgba(60, 64, 67, 0.15);\n",
              "      fill: #174EA6;\n",
              "    }\n",
              "\n",
              "    [theme=dark] .colab-df-convert {\n",
              "      background-color: #3B4455;\n",
              "      fill: #D2E3FC;\n",
              "    }\n",
              "\n",
              "    [theme=dark] .colab-df-convert:hover {\n",
              "      background-color: #434B5C;\n",
              "      box-shadow: 0px 1px 3px 1px rgba(0, 0, 0, 0.15);\n",
              "      filter: drop-shadow(0px 1px 2px rgba(0, 0, 0, 0.3));\n",
              "      fill: #FFFFFF;\n",
              "    }\n",
              "  </style>\n",
              "\n",
              "      <script>\n",
              "        const buttonEl =\n",
              "          document.querySelector('#df-69952972-878f-4247-9678-af684a9d4387 button.colab-df-convert');\n",
              "        buttonEl.style.display =\n",
              "          google.colab.kernel.accessAllowed ? 'block' : 'none';\n",
              "\n",
              "        async function convertToInteractive(key) {\n",
              "          const element = document.querySelector('#df-69952972-878f-4247-9678-af684a9d4387');\n",
              "          const dataTable =\n",
              "            await google.colab.kernel.invokeFunction('convertToInteractive',\n",
              "                                                     [key], {});\n",
              "          if (!dataTable) return;\n",
              "\n",
              "          const docLinkHtml = 'Like what you see? Visit the ' +\n",
              "            '<a target=\"_blank\" href=https://colab.research.google.com/notebooks/data_table.ipynb>data table notebook</a>'\n",
              "            + ' to learn more about interactive tables.';\n",
              "          element.innerHTML = '';\n",
              "          dataTable['output_type'] = 'display_data';\n",
              "          await google.colab.output.renderOutput(dataTable, element);\n",
              "          const docLink = document.createElement('div');\n",
              "          docLink.innerHTML = docLinkHtml;\n",
              "          element.appendChild(docLink);\n",
              "        }\n",
              "      </script>\n",
              "    </div>\n",
              "  </div>\n",
              "  "
            ],
            "text/plain": [
              "                       Name      JobTitle  ... HireMonth HireYear\n",
              "18976  Zotamou,Jean Marie D  11313.967200  ...         5     2014\n",
              "18977       Zotamou,Pivot D  11313.967200  ...         5     2014\n",
              "18978  Zovistoski,Zachary D  44531.160494  ...        12     2013\n",
              "18979     Zubyk,Stanislav T  60588.139335  ...         1     2013\n",
              "18980    Zukowski,Charles J  53368.428571  ...        10     1979\n",
              "\n",
              "[5 rows x 9 columns]"
            ]
          },
          "metadata": {},
          "execution_count": 48
        }
      ]
    },
    {
      "cell_type": "code",
      "source": [
        "## Apply mean encoding for Agency\n",
        "\n",
        "mean_agency= df_cpy.groupby(['Agency'])['AnnualSalary'].mean()\n",
        "df_cpy['Agency']=df_cpy['Agency'].map(mean_agency)\n",
        "df_cpy.head()"
      ],
      "metadata": {
        "colab": {
          "base_uri": "https://localhost:8080/",
          "height": 206
        },
        "id": "D1BOYYo2Df15",
        "outputId": "07f6ad96-0c44-42ad-c978-0549efd5587d"
      },
      "execution_count": null,
      "outputs": [
        {
          "output_type": "execute_result",
          "data": {
            "text/html": [
              "\n",
              "  <div id=\"df-aabebdf1-653f-4267-a6b8-f98b3bfcf11b\">\n",
              "    <div class=\"colab-df-container\">\n",
              "      <div>\n",
              "<style scoped>\n",
              "    .dataframe tbody tr th:only-of-type {\n",
              "        vertical-align: middle;\n",
              "    }\n",
              "\n",
              "    .dataframe tbody tr th {\n",
              "        vertical-align: top;\n",
              "    }\n",
              "\n",
              "    .dataframe thead th {\n",
              "        text-align: right;\n",
              "    }\n",
              "</style>\n",
              "<table border=\"1\" class=\"dataframe\">\n",
              "  <thead>\n",
              "    <tr style=\"text-align: right;\">\n",
              "      <th></th>\n",
              "      <th>Name</th>\n",
              "      <th>JobTitle</th>\n",
              "      <th>AgencyID</th>\n",
              "      <th>Agency</th>\n",
              "      <th>HireDate</th>\n",
              "      <th>AnnualSalary</th>\n",
              "      <th>HireDay</th>\n",
              "      <th>HireMonth</th>\n",
              "      <th>HireYear</th>\n",
              "    </tr>\n",
              "  </thead>\n",
              "  <tbody>\n",
              "    <tr>\n",
              "      <th>0</th>\n",
              "      <td>Aaron,Keontae E</td>\n",
              "      <td>11313.967200</td>\n",
              "      <td>W02200</td>\n",
              "      <td>11313.967200</td>\n",
              "      <td>06/10/2013</td>\n",
              "      <td>11310.0</td>\n",
              "      <td>10</td>\n",
              "      <td>6</td>\n",
              "      <td>2013</td>\n",
              "    </tr>\n",
              "    <tr>\n",
              "      <th>1</th>\n",
              "      <td>Aaron,Patricia G</td>\n",
              "      <td>47443.500000</td>\n",
              "      <td>A03031</td>\n",
              "      <td>51495.424242</td>\n",
              "      <td>10/24/1979</td>\n",
              "      <td>53428.0</td>\n",
              "      <td>24</td>\n",
              "      <td>10</td>\n",
              "      <td>1979</td>\n",
              "    </tr>\n",
              "    <tr>\n",
              "      <th>2</th>\n",
              "      <td>Aaron,Petra L</td>\n",
              "      <td>69750.666667</td>\n",
              "      <td>A29005</td>\n",
              "      <td>64874.560224</td>\n",
              "      <td>09/25/2006</td>\n",
              "      <td>68300.0</td>\n",
              "      <td>25</td>\n",
              "      <td>9</td>\n",
              "      <td>2006</td>\n",
              "    </tr>\n",
              "    <tr>\n",
              "      <th>3</th>\n",
              "      <td>Abaineh,Yohannes T</td>\n",
              "      <td>57940.000000</td>\n",
              "      <td>A65026</td>\n",
              "      <td>39980.900360</td>\n",
              "      <td>07/23/2009</td>\n",
              "      <td>62000.0</td>\n",
              "      <td>23</td>\n",
              "      <td>7</td>\n",
              "      <td>2009</td>\n",
              "    </tr>\n",
              "    <tr>\n",
              "      <th>4</th>\n",
              "      <td>Abbene,Anthony M</td>\n",
              "      <td>44531.160494</td>\n",
              "      <td>A99416</td>\n",
              "      <td>61506.879579</td>\n",
              "      <td>07/24/2013</td>\n",
              "      <td>43999.0</td>\n",
              "      <td>24</td>\n",
              "      <td>7</td>\n",
              "      <td>2013</td>\n",
              "    </tr>\n",
              "  </tbody>\n",
              "</table>\n",
              "</div>\n",
              "      <button class=\"colab-df-convert\" onclick=\"convertToInteractive('df-aabebdf1-653f-4267-a6b8-f98b3bfcf11b')\"\n",
              "              title=\"Convert this dataframe to an interactive table.\"\n",
              "              style=\"display:none;\">\n",
              "        \n",
              "  <svg xmlns=\"http://www.w3.org/2000/svg\" height=\"24px\"viewBox=\"0 0 24 24\"\n",
              "       width=\"24px\">\n",
              "    <path d=\"M0 0h24v24H0V0z\" fill=\"none\"/>\n",
              "    <path d=\"M18.56 5.44l.94 2.06.94-2.06 2.06-.94-2.06-.94-.94-2.06-.94 2.06-2.06.94zm-11 1L8.5 8.5l.94-2.06 2.06-.94-2.06-.94L8.5 2.5l-.94 2.06-2.06.94zm10 10l.94 2.06.94-2.06 2.06-.94-2.06-.94-.94-2.06-.94 2.06-2.06.94z\"/><path d=\"M17.41 7.96l-1.37-1.37c-.4-.4-.92-.59-1.43-.59-.52 0-1.04.2-1.43.59L10.3 9.45l-7.72 7.72c-.78.78-.78 2.05 0 2.83L4 21.41c.39.39.9.59 1.41.59.51 0 1.02-.2 1.41-.59l7.78-7.78 2.81-2.81c.8-.78.8-2.07 0-2.86zM5.41 20L4 18.59l7.72-7.72 1.47 1.35L5.41 20z\"/>\n",
              "  </svg>\n",
              "      </button>\n",
              "      \n",
              "  <style>\n",
              "    .colab-df-container {\n",
              "      display:flex;\n",
              "      flex-wrap:wrap;\n",
              "      gap: 12px;\n",
              "    }\n",
              "\n",
              "    .colab-df-convert {\n",
              "      background-color: #E8F0FE;\n",
              "      border: none;\n",
              "      border-radius: 50%;\n",
              "      cursor: pointer;\n",
              "      display: none;\n",
              "      fill: #1967D2;\n",
              "      height: 32px;\n",
              "      padding: 0 0 0 0;\n",
              "      width: 32px;\n",
              "    }\n",
              "\n",
              "    .colab-df-convert:hover {\n",
              "      background-color: #E2EBFA;\n",
              "      box-shadow: 0px 1px 2px rgba(60, 64, 67, 0.3), 0px 1px 3px 1px rgba(60, 64, 67, 0.15);\n",
              "      fill: #174EA6;\n",
              "    }\n",
              "\n",
              "    [theme=dark] .colab-df-convert {\n",
              "      background-color: #3B4455;\n",
              "      fill: #D2E3FC;\n",
              "    }\n",
              "\n",
              "    [theme=dark] .colab-df-convert:hover {\n",
              "      background-color: #434B5C;\n",
              "      box-shadow: 0px 1px 3px 1px rgba(0, 0, 0, 0.15);\n",
              "      filter: drop-shadow(0px 1px 2px rgba(0, 0, 0, 0.3));\n",
              "      fill: #FFFFFF;\n",
              "    }\n",
              "  </style>\n",
              "\n",
              "      <script>\n",
              "        const buttonEl =\n",
              "          document.querySelector('#df-aabebdf1-653f-4267-a6b8-f98b3bfcf11b button.colab-df-convert');\n",
              "        buttonEl.style.display =\n",
              "          google.colab.kernel.accessAllowed ? 'block' : 'none';\n",
              "\n",
              "        async function convertToInteractive(key) {\n",
              "          const element = document.querySelector('#df-aabebdf1-653f-4267-a6b8-f98b3bfcf11b');\n",
              "          const dataTable =\n",
              "            await google.colab.kernel.invokeFunction('convertToInteractive',\n",
              "                                                     [key], {});\n",
              "          if (!dataTable) return;\n",
              "\n",
              "          const docLinkHtml = 'Like what you see? Visit the ' +\n",
              "            '<a target=\"_blank\" href=https://colab.research.google.com/notebooks/data_table.ipynb>data table notebook</a>'\n",
              "            + ' to learn more about interactive tables.';\n",
              "          element.innerHTML = '';\n",
              "          dataTable['output_type'] = 'display_data';\n",
              "          await google.colab.output.renderOutput(dataTable, element);\n",
              "          const docLink = document.createElement('div');\n",
              "          docLink.innerHTML = docLinkHtml;\n",
              "          element.appendChild(docLink);\n",
              "        }\n",
              "      </script>\n",
              "    </div>\n",
              "  </div>\n",
              "  "
            ],
            "text/plain": [
              "                 Name      JobTitle AgencyID  ...  HireDay HireMonth  HireYear\n",
              "0     Aaron,Keontae E  11313.967200   W02200  ...       10         6      2013\n",
              "1    Aaron,Patricia G  47443.500000   A03031  ...       24        10      1979\n",
              "2       Aaron,Petra L  69750.666667   A29005  ...       25         9      2006\n",
              "3  Abaineh,Yohannes T  57940.000000   A65026  ...       23         7      2009\n",
              "4    Abbene,Anthony M  44531.160494   A99416  ...       24         7      2013\n",
              "\n",
              "[5 rows x 9 columns]"
            ]
          },
          "metadata": {},
          "execution_count": 49
        }
      ]
    },
    {
      "cell_type": "code",
      "source": [
        "## Apply mean encoding for AgencyID\n",
        "\n",
        "mean_AgencyID= df_cpy.groupby(['AgencyID'])['AnnualSalary'].mean()\n",
        "df_cpy['AgencyID']=df_cpy['AgencyID'].map(mean_AgencyID)"
      ],
      "metadata": {
        "id": "aDajw1IAFpOC"
      },
      "execution_count": null,
      "outputs": []
    },
    {
      "cell_type": "code",
      "source": [
        "df_cpy.head()"
      ],
      "metadata": {
        "colab": {
          "base_uri": "https://localhost:8080/",
          "height": 206
        },
        "id": "TyeRXLh7GTJm",
        "outputId": "2f81ac6d-1727-4579-aca3-9aef16e33270"
      },
      "execution_count": null,
      "outputs": [
        {
          "output_type": "execute_result",
          "data": {
            "text/html": [
              "\n",
              "  <div id=\"df-10268ac5-ed0f-4aec-9db7-e82b4c11b9b7\">\n",
              "    <div class=\"colab-df-container\">\n",
              "      <div>\n",
              "<style scoped>\n",
              "    .dataframe tbody tr th:only-of-type {\n",
              "        vertical-align: middle;\n",
              "    }\n",
              "\n",
              "    .dataframe tbody tr th {\n",
              "        vertical-align: top;\n",
              "    }\n",
              "\n",
              "    .dataframe thead th {\n",
              "        text-align: right;\n",
              "    }\n",
              "</style>\n",
              "<table border=\"1\" class=\"dataframe\">\n",
              "  <thead>\n",
              "    <tr style=\"text-align: right;\">\n",
              "      <th></th>\n",
              "      <th>Name</th>\n",
              "      <th>JobTitle</th>\n",
              "      <th>AgencyID</th>\n",
              "      <th>Agency</th>\n",
              "      <th>HireDate</th>\n",
              "      <th>AnnualSalary</th>\n",
              "      <th>HireDay</th>\n",
              "      <th>HireMonth</th>\n",
              "      <th>HireYear</th>\n",
              "    </tr>\n",
              "  </thead>\n",
              "  <tbody>\n",
              "    <tr>\n",
              "      <th>0</th>\n",
              "      <td>Aaron,Keontae E</td>\n",
              "      <td>11313.967200</td>\n",
              "      <td>11310.000000</td>\n",
              "      <td>11313.967200</td>\n",
              "      <td>06/10/2013</td>\n",
              "      <td>11310.0</td>\n",
              "      <td>10</td>\n",
              "      <td>6</td>\n",
              "      <td>2013</td>\n",
              "    </tr>\n",
              "    <tr>\n",
              "      <th>1</th>\n",
              "      <td>Aaron,Patricia G</td>\n",
              "      <td>47443.500000</td>\n",
              "      <td>46667.000000</td>\n",
              "      <td>51495.424242</td>\n",
              "      <td>10/24/1979</td>\n",
              "      <td>53428.0</td>\n",
              "      <td>24</td>\n",
              "      <td>10</td>\n",
              "      <td>1979</td>\n",
              "    </tr>\n",
              "    <tr>\n",
              "      <th>2</th>\n",
              "      <td>Aaron,Petra L</td>\n",
              "      <td>69750.666667</td>\n",
              "      <td>65926.133333</td>\n",
              "      <td>64874.560224</td>\n",
              "      <td>09/25/2006</td>\n",
              "      <td>68300.0</td>\n",
              "      <td>25</td>\n",
              "      <td>9</td>\n",
              "      <td>2006</td>\n",
              "    </tr>\n",
              "    <tr>\n",
              "      <th>3</th>\n",
              "      <td>Abaineh,Yohannes T</td>\n",
              "      <td>57940.000000</td>\n",
              "      <td>48071.851064</td>\n",
              "      <td>39980.900360</td>\n",
              "      <td>07/23/2009</td>\n",
              "      <td>62000.0</td>\n",
              "      <td>23</td>\n",
              "      <td>7</td>\n",
              "      <td>2009</td>\n",
              "    </tr>\n",
              "    <tr>\n",
              "      <th>4</th>\n",
              "      <td>Abbene,Anthony M</td>\n",
              "      <td>44531.160494</td>\n",
              "      <td>44012.307229</td>\n",
              "      <td>61506.879579</td>\n",
              "      <td>07/24/2013</td>\n",
              "      <td>43999.0</td>\n",
              "      <td>24</td>\n",
              "      <td>7</td>\n",
              "      <td>2013</td>\n",
              "    </tr>\n",
              "  </tbody>\n",
              "</table>\n",
              "</div>\n",
              "      <button class=\"colab-df-convert\" onclick=\"convertToInteractive('df-10268ac5-ed0f-4aec-9db7-e82b4c11b9b7')\"\n",
              "              title=\"Convert this dataframe to an interactive table.\"\n",
              "              style=\"display:none;\">\n",
              "        \n",
              "  <svg xmlns=\"http://www.w3.org/2000/svg\" height=\"24px\"viewBox=\"0 0 24 24\"\n",
              "       width=\"24px\">\n",
              "    <path d=\"M0 0h24v24H0V0z\" fill=\"none\"/>\n",
              "    <path d=\"M18.56 5.44l.94 2.06.94-2.06 2.06-.94-2.06-.94-.94-2.06-.94 2.06-2.06.94zm-11 1L8.5 8.5l.94-2.06 2.06-.94-2.06-.94L8.5 2.5l-.94 2.06-2.06.94zm10 10l.94 2.06.94-2.06 2.06-.94-2.06-.94-.94-2.06-.94 2.06-2.06.94z\"/><path d=\"M17.41 7.96l-1.37-1.37c-.4-.4-.92-.59-1.43-.59-.52 0-1.04.2-1.43.59L10.3 9.45l-7.72 7.72c-.78.78-.78 2.05 0 2.83L4 21.41c.39.39.9.59 1.41.59.51 0 1.02-.2 1.41-.59l7.78-7.78 2.81-2.81c.8-.78.8-2.07 0-2.86zM5.41 20L4 18.59l7.72-7.72 1.47 1.35L5.41 20z\"/>\n",
              "  </svg>\n",
              "      </button>\n",
              "      \n",
              "  <style>\n",
              "    .colab-df-container {\n",
              "      display:flex;\n",
              "      flex-wrap:wrap;\n",
              "      gap: 12px;\n",
              "    }\n",
              "\n",
              "    .colab-df-convert {\n",
              "      background-color: #E8F0FE;\n",
              "      border: none;\n",
              "      border-radius: 50%;\n",
              "      cursor: pointer;\n",
              "      display: none;\n",
              "      fill: #1967D2;\n",
              "      height: 32px;\n",
              "      padding: 0 0 0 0;\n",
              "      width: 32px;\n",
              "    }\n",
              "\n",
              "    .colab-df-convert:hover {\n",
              "      background-color: #E2EBFA;\n",
              "      box-shadow: 0px 1px 2px rgba(60, 64, 67, 0.3), 0px 1px 3px 1px rgba(60, 64, 67, 0.15);\n",
              "      fill: #174EA6;\n",
              "    }\n",
              "\n",
              "    [theme=dark] .colab-df-convert {\n",
              "      background-color: #3B4455;\n",
              "      fill: #D2E3FC;\n",
              "    }\n",
              "\n",
              "    [theme=dark] .colab-df-convert:hover {\n",
              "      background-color: #434B5C;\n",
              "      box-shadow: 0px 1px 3px 1px rgba(0, 0, 0, 0.15);\n",
              "      filter: drop-shadow(0px 1px 2px rgba(0, 0, 0, 0.3));\n",
              "      fill: #FFFFFF;\n",
              "    }\n",
              "  </style>\n",
              "\n",
              "      <script>\n",
              "        const buttonEl =\n",
              "          document.querySelector('#df-10268ac5-ed0f-4aec-9db7-e82b4c11b9b7 button.colab-df-convert');\n",
              "        buttonEl.style.display =\n",
              "          google.colab.kernel.accessAllowed ? 'block' : 'none';\n",
              "\n",
              "        async function convertToInteractive(key) {\n",
              "          const element = document.querySelector('#df-10268ac5-ed0f-4aec-9db7-e82b4c11b9b7');\n",
              "          const dataTable =\n",
              "            await google.colab.kernel.invokeFunction('convertToInteractive',\n",
              "                                                     [key], {});\n",
              "          if (!dataTable) return;\n",
              "\n",
              "          const docLinkHtml = 'Like what you see? Visit the ' +\n",
              "            '<a target=\"_blank\" href=https://colab.research.google.com/notebooks/data_table.ipynb>data table notebook</a>'\n",
              "            + ' to learn more about interactive tables.';\n",
              "          element.innerHTML = '';\n",
              "          dataTable['output_type'] = 'display_data';\n",
              "          await google.colab.output.renderOutput(dataTable, element);\n",
              "          const docLink = document.createElement('div');\n",
              "          docLink.innerHTML = docLinkHtml;\n",
              "          element.appendChild(docLink);\n",
              "        }\n",
              "      </script>\n",
              "    </div>\n",
              "  </div>\n",
              "  "
            ],
            "text/plain": [
              "                 Name      JobTitle      AgencyID  ...  HireDay HireMonth  HireYear\n",
              "0     Aaron,Keontae E  11313.967200  11310.000000  ...       10         6      2013\n",
              "1    Aaron,Patricia G  47443.500000  46667.000000  ...       24        10      1979\n",
              "2       Aaron,Petra L  69750.666667  65926.133333  ...       25         9      2006\n",
              "3  Abaineh,Yohannes T  57940.000000  48071.851064  ...       23         7      2009\n",
              "4    Abbene,Anthony M  44531.160494  44012.307229  ...       24         7      2013\n",
              "\n",
              "[5 rows x 9 columns]"
            ]
          },
          "metadata": {},
          "execution_count": 51
        }
      ]
    },
    {
      "cell_type": "code",
      "source": [
        "df_cpy.info()"
      ],
      "metadata": {
        "colab": {
          "base_uri": "https://localhost:8080/"
        },
        "id": "cx3B7E_IGVtf",
        "outputId": "56a48ce2-7974-4f41-c9b9-ea77ab5547f8"
      },
      "execution_count": null,
      "outputs": [
        {
          "output_type": "stream",
          "name": "stdout",
          "text": [
            "<class 'pandas.core.frame.DataFrame'>\n",
            "Int64Index: 18895 entries, 0 to 18980\n",
            "Data columns (total 9 columns):\n",
            " #   Column        Non-Null Count  Dtype  \n",
            "---  ------        --------------  -----  \n",
            " 0   Name          18895 non-null  object \n",
            " 1   JobTitle      18895 non-null  float64\n",
            " 2   AgencyID      18895 non-null  float64\n",
            " 3   Agency        18895 non-null  float64\n",
            " 4   HireDate      18895 non-null  object \n",
            " 5   AnnualSalary  18895 non-null  float64\n",
            " 6   HireDay       18895 non-null  int64  \n",
            " 7   HireMonth     18895 non-null  int64  \n",
            " 8   HireYear      18895 non-null  int64  \n",
            "dtypes: float64(4), int64(3), object(2)\n",
            "memory usage: 1.9+ MB\n"
          ]
        }
      ]
    },
    {
      "cell_type": "code",
      "source": [
        "df_cpy=df_cpy.drop(['Name','HireDate'],axis=1)\n",
        "df_cpy.head()"
      ],
      "metadata": {
        "colab": {
          "base_uri": "https://localhost:8080/",
          "height": 206
        },
        "id": "KYXO_T3YGwp2",
        "outputId": "dfb6dcaf-a5f9-44d5-9422-0cbde12e8045"
      },
      "execution_count": null,
      "outputs": [
        {
          "output_type": "execute_result",
          "data": {
            "text/html": [
              "\n",
              "  <div id=\"df-60bf7997-c577-4c9d-8ee7-607e78e1b1f5\">\n",
              "    <div class=\"colab-df-container\">\n",
              "      <div>\n",
              "<style scoped>\n",
              "    .dataframe tbody tr th:only-of-type {\n",
              "        vertical-align: middle;\n",
              "    }\n",
              "\n",
              "    .dataframe tbody tr th {\n",
              "        vertical-align: top;\n",
              "    }\n",
              "\n",
              "    .dataframe thead th {\n",
              "        text-align: right;\n",
              "    }\n",
              "</style>\n",
              "<table border=\"1\" class=\"dataframe\">\n",
              "  <thead>\n",
              "    <tr style=\"text-align: right;\">\n",
              "      <th></th>\n",
              "      <th>JobTitle</th>\n",
              "      <th>AgencyID</th>\n",
              "      <th>Agency</th>\n",
              "      <th>AnnualSalary</th>\n",
              "      <th>HireDay</th>\n",
              "      <th>HireMonth</th>\n",
              "      <th>HireYear</th>\n",
              "    </tr>\n",
              "  </thead>\n",
              "  <tbody>\n",
              "    <tr>\n",
              "      <th>0</th>\n",
              "      <td>11313.967200</td>\n",
              "      <td>11310.000000</td>\n",
              "      <td>11313.967200</td>\n",
              "      <td>11310.0</td>\n",
              "      <td>10</td>\n",
              "      <td>6</td>\n",
              "      <td>2013</td>\n",
              "    </tr>\n",
              "    <tr>\n",
              "      <th>1</th>\n",
              "      <td>47443.500000</td>\n",
              "      <td>46667.000000</td>\n",
              "      <td>51495.424242</td>\n",
              "      <td>53428.0</td>\n",
              "      <td>24</td>\n",
              "      <td>10</td>\n",
              "      <td>1979</td>\n",
              "    </tr>\n",
              "    <tr>\n",
              "      <th>2</th>\n",
              "      <td>69750.666667</td>\n",
              "      <td>65926.133333</td>\n",
              "      <td>64874.560224</td>\n",
              "      <td>68300.0</td>\n",
              "      <td>25</td>\n",
              "      <td>9</td>\n",
              "      <td>2006</td>\n",
              "    </tr>\n",
              "    <tr>\n",
              "      <th>3</th>\n",
              "      <td>57940.000000</td>\n",
              "      <td>48071.851064</td>\n",
              "      <td>39980.900360</td>\n",
              "      <td>62000.0</td>\n",
              "      <td>23</td>\n",
              "      <td>7</td>\n",
              "      <td>2009</td>\n",
              "    </tr>\n",
              "    <tr>\n",
              "      <th>4</th>\n",
              "      <td>44531.160494</td>\n",
              "      <td>44012.307229</td>\n",
              "      <td>61506.879579</td>\n",
              "      <td>43999.0</td>\n",
              "      <td>24</td>\n",
              "      <td>7</td>\n",
              "      <td>2013</td>\n",
              "    </tr>\n",
              "  </tbody>\n",
              "</table>\n",
              "</div>\n",
              "      <button class=\"colab-df-convert\" onclick=\"convertToInteractive('df-60bf7997-c577-4c9d-8ee7-607e78e1b1f5')\"\n",
              "              title=\"Convert this dataframe to an interactive table.\"\n",
              "              style=\"display:none;\">\n",
              "        \n",
              "  <svg xmlns=\"http://www.w3.org/2000/svg\" height=\"24px\"viewBox=\"0 0 24 24\"\n",
              "       width=\"24px\">\n",
              "    <path d=\"M0 0h24v24H0V0z\" fill=\"none\"/>\n",
              "    <path d=\"M18.56 5.44l.94 2.06.94-2.06 2.06-.94-2.06-.94-.94-2.06-.94 2.06-2.06.94zm-11 1L8.5 8.5l.94-2.06 2.06-.94-2.06-.94L8.5 2.5l-.94 2.06-2.06.94zm10 10l.94 2.06.94-2.06 2.06-.94-2.06-.94-.94-2.06-.94 2.06-2.06.94z\"/><path d=\"M17.41 7.96l-1.37-1.37c-.4-.4-.92-.59-1.43-.59-.52 0-1.04.2-1.43.59L10.3 9.45l-7.72 7.72c-.78.78-.78 2.05 0 2.83L4 21.41c.39.39.9.59 1.41.59.51 0 1.02-.2 1.41-.59l7.78-7.78 2.81-2.81c.8-.78.8-2.07 0-2.86zM5.41 20L4 18.59l7.72-7.72 1.47 1.35L5.41 20z\"/>\n",
              "  </svg>\n",
              "      </button>\n",
              "      \n",
              "  <style>\n",
              "    .colab-df-container {\n",
              "      display:flex;\n",
              "      flex-wrap:wrap;\n",
              "      gap: 12px;\n",
              "    }\n",
              "\n",
              "    .colab-df-convert {\n",
              "      background-color: #E8F0FE;\n",
              "      border: none;\n",
              "      border-radius: 50%;\n",
              "      cursor: pointer;\n",
              "      display: none;\n",
              "      fill: #1967D2;\n",
              "      height: 32px;\n",
              "      padding: 0 0 0 0;\n",
              "      width: 32px;\n",
              "    }\n",
              "\n",
              "    .colab-df-convert:hover {\n",
              "      background-color: #E2EBFA;\n",
              "      box-shadow: 0px 1px 2px rgba(60, 64, 67, 0.3), 0px 1px 3px 1px rgba(60, 64, 67, 0.15);\n",
              "      fill: #174EA6;\n",
              "    }\n",
              "\n",
              "    [theme=dark] .colab-df-convert {\n",
              "      background-color: #3B4455;\n",
              "      fill: #D2E3FC;\n",
              "    }\n",
              "\n",
              "    [theme=dark] .colab-df-convert:hover {\n",
              "      background-color: #434B5C;\n",
              "      box-shadow: 0px 1px 3px 1px rgba(0, 0, 0, 0.15);\n",
              "      filter: drop-shadow(0px 1px 2px rgba(0, 0, 0, 0.3));\n",
              "      fill: #FFFFFF;\n",
              "    }\n",
              "  </style>\n",
              "\n",
              "      <script>\n",
              "        const buttonEl =\n",
              "          document.querySelector('#df-60bf7997-c577-4c9d-8ee7-607e78e1b1f5 button.colab-df-convert');\n",
              "        buttonEl.style.display =\n",
              "          google.colab.kernel.accessAllowed ? 'block' : 'none';\n",
              "\n",
              "        async function convertToInteractive(key) {\n",
              "          const element = document.querySelector('#df-60bf7997-c577-4c9d-8ee7-607e78e1b1f5');\n",
              "          const dataTable =\n",
              "            await google.colab.kernel.invokeFunction('convertToInteractive',\n",
              "                                                     [key], {});\n",
              "          if (!dataTable) return;\n",
              "\n",
              "          const docLinkHtml = 'Like what you see? Visit the ' +\n",
              "            '<a target=\"_blank\" href=https://colab.research.google.com/notebooks/data_table.ipynb>data table notebook</a>'\n",
              "            + ' to learn more about interactive tables.';\n",
              "          element.innerHTML = '';\n",
              "          dataTable['output_type'] = 'display_data';\n",
              "          await google.colab.output.renderOutput(dataTable, element);\n",
              "          const docLink = document.createElement('div');\n",
              "          docLink.innerHTML = docLinkHtml;\n",
              "          element.appendChild(docLink);\n",
              "        }\n",
              "      </script>\n",
              "    </div>\n",
              "  </div>\n",
              "  "
            ],
            "text/plain": [
              "       JobTitle      AgencyID        Agency  ...  HireDay  HireMonth  HireYear\n",
              "0  11313.967200  11310.000000  11313.967200  ...       10          6      2013\n",
              "1  47443.500000  46667.000000  51495.424242  ...       24         10      1979\n",
              "2  69750.666667  65926.133333  64874.560224  ...       25          9      2006\n",
              "3  57940.000000  48071.851064  39980.900360  ...       23          7      2009\n",
              "4  44531.160494  44012.307229  61506.879579  ...       24          7      2013\n",
              "\n",
              "[5 rows x 7 columns]"
            ]
          },
          "metadata": {},
          "execution_count": 53
        }
      ]
    },
    {
      "cell_type": "markdown",
      "source": [
        "# Model Building"
      ],
      "metadata": {
        "id": "vwox9T0fIHeE"
      }
    },
    {
      "cell_type": "code",
      "source": [
        "df_train,df_test= train_test_split(df_cpy,train_size=0.7,random_state=4)"
      ],
      "metadata": {
        "id": "iwYYG7-rHG0w"
      },
      "execution_count": null,
      "outputs": []
    },
    {
      "cell_type": "code",
      "source": [
        "df_test.shape"
      ],
      "metadata": {
        "colab": {
          "base_uri": "https://localhost:8080/"
        },
        "id": "iMZwixYbI8No",
        "outputId": "06bf4515-f5ee-4b23-8d0e-8aeca8213836"
      },
      "execution_count": null,
      "outputs": [
        {
          "output_type": "execute_result",
          "data": {
            "text/plain": [
              "(5669, 7)"
            ]
          },
          "metadata": {},
          "execution_count": 55
        }
      ]
    },
    {
      "cell_type": "code",
      "source": [
        "df_test.columns"
      ],
      "metadata": {
        "colab": {
          "base_uri": "https://localhost:8080/"
        },
        "id": "8z9D_kQqWkGq",
        "outputId": "b87f10c9-2633-425c-9992-d5e206239310"
      },
      "execution_count": null,
      "outputs": [
        {
          "output_type": "execute_result",
          "data": {
            "text/plain": [
              "Index(['JobTitle', 'AgencyID', 'Agency', 'AnnualSalary', 'HireDay',\n",
              "       'HireMonth', 'HireYear'],\n",
              "      dtype='object')"
            ]
          },
          "metadata": {},
          "execution_count": 56
        }
      ]
    },
    {
      "cell_type": "code",
      "source": [
        "y_train=df_train.pop('AnnualSalary')\n",
        "x_train=df_train                      # Separeated x_train and  y_train for model building\n",
        "\n",
        "# similarly for test sample\n",
        "\n",
        "y_test=df_test.pop('AnnualSalary')\n",
        "x_test=df_test"
      ],
      "metadata": {
        "id": "g3EETK4MI-l_"
      },
      "execution_count": null,
      "outputs": []
    },
    {
      "cell_type": "code",
      "source": [
        "y_test"
      ],
      "metadata": {
        "id": "VM8WVWNhJNT_",
        "colab": {
          "base_uri": "https://localhost:8080/"
        },
        "outputId": "1b79c8ec-c13a-4e7c-8611-34006ecab4c5"
      },
      "execution_count": null,
      "outputs": [
        {
          "output_type": "execute_result",
          "data": {
            "text/plain": [
              "9055     11310.0\n",
              "3213     73600.0\n",
              "18527    67749.0\n",
              "11101    10038.0\n",
              "11846    80900.0\n",
              "          ...   \n",
              "14178    65300.0\n",
              "194       9891.0\n",
              "6808     67300.0\n",
              "14662    29245.0\n",
              "4284     80000.0\n",
              "Name: AnnualSalary, Length: 5669, dtype: float64"
            ]
          },
          "metadata": {},
          "execution_count": 58
        }
      ]
    },
    {
      "cell_type": "code",
      "source": [
        "x_test"
      ],
      "metadata": {
        "colab": {
          "base_uri": "https://localhost:8080/",
          "height": 423
        },
        "id": "tPeGt8n6W76I",
        "outputId": "fb806af6-7651-46f5-b94d-1dc04e54e5c9"
      },
      "execution_count": null,
      "outputs": [
        {
          "output_type": "execute_result",
          "data": {
            "text/html": [
              "\n",
              "  <div id=\"df-5652cc77-f536-4ff5-9da8-534498d9f8cc\">\n",
              "    <div class=\"colab-df-container\">\n",
              "      <div>\n",
              "<style scoped>\n",
              "    .dataframe tbody tr th:only-of-type {\n",
              "        vertical-align: middle;\n",
              "    }\n",
              "\n",
              "    .dataframe tbody tr th {\n",
              "        vertical-align: top;\n",
              "    }\n",
              "\n",
              "    .dataframe thead th {\n",
              "        text-align: right;\n",
              "    }\n",
              "</style>\n",
              "<table border=\"1\" class=\"dataframe\">\n",
              "  <thead>\n",
              "    <tr style=\"text-align: right;\">\n",
              "      <th></th>\n",
              "      <th>JobTitle</th>\n",
              "      <th>AgencyID</th>\n",
              "      <th>Agency</th>\n",
              "      <th>HireDay</th>\n",
              "      <th>HireMonth</th>\n",
              "      <th>HireYear</th>\n",
              "    </tr>\n",
              "  </thead>\n",
              "  <tbody>\n",
              "    <tr>\n",
              "      <th>9055</th>\n",
              "      <td>11313.967200</td>\n",
              "      <td>11310.000000</td>\n",
              "      <td>11313.967200</td>\n",
              "      <td>3</td>\n",
              "      <td>6</td>\n",
              "      <td>2010</td>\n",
              "    </tr>\n",
              "    <tr>\n",
              "      <th>3213</th>\n",
              "      <td>73600.000000</td>\n",
              "      <td>74617.000000</td>\n",
              "      <td>64009.314815</td>\n",
              "      <td>31</td>\n",
              "      <td>3</td>\n",
              "      <td>2014</td>\n",
              "    </tr>\n",
              "    <tr>\n",
              "      <th>18527</th>\n",
              "      <td>66904.663551</td>\n",
              "      <td>67990.039216</td>\n",
              "      <td>71013.212768</td>\n",
              "      <td>12</td>\n",
              "      <td>7</td>\n",
              "      <td>1999</td>\n",
              "    </tr>\n",
              "    <tr>\n",
              "      <th>11101</th>\n",
              "      <td>11522.106952</td>\n",
              "      <td>10272.043478</td>\n",
              "      <td>10234.535294</td>\n",
              "      <td>10</td>\n",
              "      <td>2</td>\n",
              "      <td>2005</td>\n",
              "    </tr>\n",
              "    <tr>\n",
              "      <th>11846</th>\n",
              "      <td>83257.142857</td>\n",
              "      <td>59810.709091</td>\n",
              "      <td>42565.513078</td>\n",
              "      <td>21</td>\n",
              "      <td>4</td>\n",
              "      <td>1986</td>\n",
              "    </tr>\n",
              "    <tr>\n",
              "      <th>...</th>\n",
              "      <td>...</td>\n",
              "      <td>...</td>\n",
              "      <td>...</td>\n",
              "      <td>...</td>\n",
              "      <td>...</td>\n",
              "      <td>...</td>\n",
              "    </tr>\n",
              "    <tr>\n",
              "      <th>14178</th>\n",
              "      <td>69750.666667</td>\n",
              "      <td>66079.388889</td>\n",
              "      <td>64874.560224</td>\n",
              "      <td>21</td>\n",
              "      <td>8</td>\n",
              "      <td>2004</td>\n",
              "    </tr>\n",
              "    <tr>\n",
              "      <th>194</th>\n",
              "      <td>11522.106952</td>\n",
              "      <td>9628.693878</td>\n",
              "      <td>10234.535294</td>\n",
              "      <td>12</td>\n",
              "      <td>5</td>\n",
              "      <td>2011</td>\n",
              "    </tr>\n",
              "    <tr>\n",
              "      <th>6808</th>\n",
              "      <td>65754.545455</td>\n",
              "      <td>56857.096774</td>\n",
              "      <td>47356.995336</td>\n",
              "      <td>24</td>\n",
              "      <td>2</td>\n",
              "      <td>2007</td>\n",
              "    </tr>\n",
              "    <tr>\n",
              "      <th>14662</th>\n",
              "      <td>29925.666667</td>\n",
              "      <td>34795.076923</td>\n",
              "      <td>42565.513078</td>\n",
              "      <td>3</td>\n",
              "      <td>11</td>\n",
              "      <td>2008</td>\n",
              "    </tr>\n",
              "    <tr>\n",
              "      <th>4284</th>\n",
              "      <td>87472.473118</td>\n",
              "      <td>54243.541667</td>\n",
              "      <td>48774.663043</td>\n",
              "      <td>1</td>\n",
              "      <td>3</td>\n",
              "      <td>2010</td>\n",
              "    </tr>\n",
              "  </tbody>\n",
              "</table>\n",
              "<p>5669 rows × 6 columns</p>\n",
              "</div>\n",
              "      <button class=\"colab-df-convert\" onclick=\"convertToInteractive('df-5652cc77-f536-4ff5-9da8-534498d9f8cc')\"\n",
              "              title=\"Convert this dataframe to an interactive table.\"\n",
              "              style=\"display:none;\">\n",
              "        \n",
              "  <svg xmlns=\"http://www.w3.org/2000/svg\" height=\"24px\"viewBox=\"0 0 24 24\"\n",
              "       width=\"24px\">\n",
              "    <path d=\"M0 0h24v24H0V0z\" fill=\"none\"/>\n",
              "    <path d=\"M18.56 5.44l.94 2.06.94-2.06 2.06-.94-2.06-.94-.94-2.06-.94 2.06-2.06.94zm-11 1L8.5 8.5l.94-2.06 2.06-.94-2.06-.94L8.5 2.5l-.94 2.06-2.06.94zm10 10l.94 2.06.94-2.06 2.06-.94-2.06-.94-.94-2.06-.94 2.06-2.06.94z\"/><path d=\"M17.41 7.96l-1.37-1.37c-.4-.4-.92-.59-1.43-.59-.52 0-1.04.2-1.43.59L10.3 9.45l-7.72 7.72c-.78.78-.78 2.05 0 2.83L4 21.41c.39.39.9.59 1.41.59.51 0 1.02-.2 1.41-.59l7.78-7.78 2.81-2.81c.8-.78.8-2.07 0-2.86zM5.41 20L4 18.59l7.72-7.72 1.47 1.35L5.41 20z\"/>\n",
              "  </svg>\n",
              "      </button>\n",
              "      \n",
              "  <style>\n",
              "    .colab-df-container {\n",
              "      display:flex;\n",
              "      flex-wrap:wrap;\n",
              "      gap: 12px;\n",
              "    }\n",
              "\n",
              "    .colab-df-convert {\n",
              "      background-color: #E8F0FE;\n",
              "      border: none;\n",
              "      border-radius: 50%;\n",
              "      cursor: pointer;\n",
              "      display: none;\n",
              "      fill: #1967D2;\n",
              "      height: 32px;\n",
              "      padding: 0 0 0 0;\n",
              "      width: 32px;\n",
              "    }\n",
              "\n",
              "    .colab-df-convert:hover {\n",
              "      background-color: #E2EBFA;\n",
              "      box-shadow: 0px 1px 2px rgba(60, 64, 67, 0.3), 0px 1px 3px 1px rgba(60, 64, 67, 0.15);\n",
              "      fill: #174EA6;\n",
              "    }\n",
              "\n",
              "    [theme=dark] .colab-df-convert {\n",
              "      background-color: #3B4455;\n",
              "      fill: #D2E3FC;\n",
              "    }\n",
              "\n",
              "    [theme=dark] .colab-df-convert:hover {\n",
              "      background-color: #434B5C;\n",
              "      box-shadow: 0px 1px 3px 1px rgba(0, 0, 0, 0.15);\n",
              "      filter: drop-shadow(0px 1px 2px rgba(0, 0, 0, 0.3));\n",
              "      fill: #FFFFFF;\n",
              "    }\n",
              "  </style>\n",
              "\n",
              "      <script>\n",
              "        const buttonEl =\n",
              "          document.querySelector('#df-5652cc77-f536-4ff5-9da8-534498d9f8cc button.colab-df-convert');\n",
              "        buttonEl.style.display =\n",
              "          google.colab.kernel.accessAllowed ? 'block' : 'none';\n",
              "\n",
              "        async function convertToInteractive(key) {\n",
              "          const element = document.querySelector('#df-5652cc77-f536-4ff5-9da8-534498d9f8cc');\n",
              "          const dataTable =\n",
              "            await google.colab.kernel.invokeFunction('convertToInteractive',\n",
              "                                                     [key], {});\n",
              "          if (!dataTable) return;\n",
              "\n",
              "          const docLinkHtml = 'Like what you see? Visit the ' +\n",
              "            '<a target=\"_blank\" href=https://colab.research.google.com/notebooks/data_table.ipynb>data table notebook</a>'\n",
              "            + ' to learn more about interactive tables.';\n",
              "          element.innerHTML = '';\n",
              "          dataTable['output_type'] = 'display_data';\n",
              "          await google.colab.output.renderOutput(dataTable, element);\n",
              "          const docLink = document.createElement('div');\n",
              "          docLink.innerHTML = docLinkHtml;\n",
              "          element.appendChild(docLink);\n",
              "        }\n",
              "      </script>\n",
              "    </div>\n",
              "  </div>\n",
              "  "
            ],
            "text/plain": [
              "           JobTitle      AgencyID        Agency  HireDay  HireMonth  HireYear\n",
              "9055   11313.967200  11310.000000  11313.967200        3          6      2010\n",
              "3213   73600.000000  74617.000000  64009.314815       31          3      2014\n",
              "18527  66904.663551  67990.039216  71013.212768       12          7      1999\n",
              "11101  11522.106952  10272.043478  10234.535294       10          2      2005\n",
              "11846  83257.142857  59810.709091  42565.513078       21          4      1986\n",
              "...             ...           ...           ...      ...        ...       ...\n",
              "14178  69750.666667  66079.388889  64874.560224       21          8      2004\n",
              "194    11522.106952   9628.693878  10234.535294       12          5      2011\n",
              "6808   65754.545455  56857.096774  47356.995336       24          2      2007\n",
              "14662  29925.666667  34795.076923  42565.513078        3         11      2008\n",
              "4284   87472.473118  54243.541667  48774.663043        1          3      2010\n",
              "\n",
              "[5669 rows x 6 columns]"
            ]
          },
          "metadata": {},
          "execution_count": 59
        }
      ]
    },
    {
      "cell_type": "code",
      "source": [
        "# Initializing standard scaler \n",
        "\n",
        "standscale= StandardScaler()\n",
        "x_train[x_train.columns]= standscale.fit_transform(x_train[x_train.columns])\n",
        "x_train.describe()"
      ],
      "metadata": {
        "id": "hUTjrT2yW9mH",
        "colab": {
          "base_uri": "https://localhost:8080/",
          "height": 300
        },
        "outputId": "431682c2-54a1-449b-88c9-1fe09330cf21"
      },
      "execution_count": null,
      "outputs": [
        {
          "output_type": "execute_result",
          "data": {
            "text/html": [
              "\n",
              "  <div id=\"df-c7e71aff-d419-4918-ad29-ba4ba09bea87\">\n",
              "    <div class=\"colab-df-container\">\n",
              "      <div>\n",
              "<style scoped>\n",
              "    .dataframe tbody tr th:only-of-type {\n",
              "        vertical-align: middle;\n",
              "    }\n",
              "\n",
              "    .dataframe tbody tr th {\n",
              "        vertical-align: top;\n",
              "    }\n",
              "\n",
              "    .dataframe thead th {\n",
              "        text-align: right;\n",
              "    }\n",
              "</style>\n",
              "<table border=\"1\" class=\"dataframe\">\n",
              "  <thead>\n",
              "    <tr style=\"text-align: right;\">\n",
              "      <th></th>\n",
              "      <th>JobTitle</th>\n",
              "      <th>AgencyID</th>\n",
              "      <th>Agency</th>\n",
              "      <th>HireDay</th>\n",
              "      <th>HireMonth</th>\n",
              "      <th>HireYear</th>\n",
              "    </tr>\n",
              "  </thead>\n",
              "  <tbody>\n",
              "    <tr>\n",
              "      <th>count</th>\n",
              "      <td>1.322600e+04</td>\n",
              "      <td>1.322600e+04</td>\n",
              "      <td>1.322600e+04</td>\n",
              "      <td>1.322600e+04</td>\n",
              "      <td>1.322600e+04</td>\n",
              "      <td>1.322600e+04</td>\n",
              "    </tr>\n",
              "    <tr>\n",
              "      <th>mean</th>\n",
              "      <td>1.074464e-18</td>\n",
              "      <td>2.863361e-16</td>\n",
              "      <td>9.770903e-17</td>\n",
              "      <td>-1.564184e-16</td>\n",
              "      <td>-1.289314e-16</td>\n",
              "      <td>-5.900735e-16</td>\n",
              "    </tr>\n",
              "    <tr>\n",
              "      <th>std</th>\n",
              "      <td>1.000038e+00</td>\n",
              "      <td>1.000038e+00</td>\n",
              "      <td>1.000038e+00</td>\n",
              "      <td>1.000038e+00</td>\n",
              "      <td>1.000038e+00</td>\n",
              "      <td>1.000038e+00</td>\n",
              "    </tr>\n",
              "    <tr>\n",
              "      <th>min</th>\n",
              "      <td>-1.544456e+00</td>\n",
              "      <td>-1.696002e+00</td>\n",
              "      <td>-1.402645e+00</td>\n",
              "      <td>-1.748141e+00</td>\n",
              "      <td>-1.823631e+00</td>\n",
              "      <td>-4.972314e+00</td>\n",
              "    </tr>\n",
              "    <tr>\n",
              "      <th>25%</th>\n",
              "      <td>-1.162730e+00</td>\n",
              "      <td>-1.276371e+00</td>\n",
              "      <td>-1.351145e+00</td>\n",
              "      <td>-7.989482e-01</td>\n",
              "      <td>-4.654450e-01</td>\n",
              "      <td>-5.748858e-01</td>\n",
              "    </tr>\n",
              "    <tr>\n",
              "      <th>50%</th>\n",
              "      <td>-1.501051e-01</td>\n",
              "      <td>8.869243e-02</td>\n",
              "      <td>1.398795e-01</td>\n",
              "      <td>3.159550e-02</td>\n",
              "      <td>-1.258986e-01</td>\n",
              "      <td>2.854805e-01</td>\n",
              "    </tr>\n",
              "    <tr>\n",
              "      <th>75%</th>\n",
              "      <td>8.567348e-01</td>\n",
              "      <td>8.975852e-01</td>\n",
              "      <td>1.043580e+00</td>\n",
              "      <td>7.434901e-01</td>\n",
              "      <td>5.531941e-01</td>\n",
              "      <td>8.590581e-01</td>\n",
              "    </tr>\n",
              "    <tr>\n",
              "      <th>max</th>\n",
              "      <td>4.147642e+00</td>\n",
              "      <td>3.131949e+00</td>\n",
              "      <td>2.235646e+00</td>\n",
              "      <td>1.811332e+00</td>\n",
              "      <td>1.911380e+00</td>\n",
              "      <td>9.546543e-01</td>\n",
              "    </tr>\n",
              "  </tbody>\n",
              "</table>\n",
              "</div>\n",
              "      <button class=\"colab-df-convert\" onclick=\"convertToInteractive('df-c7e71aff-d419-4918-ad29-ba4ba09bea87')\"\n",
              "              title=\"Convert this dataframe to an interactive table.\"\n",
              "              style=\"display:none;\">\n",
              "        \n",
              "  <svg xmlns=\"http://www.w3.org/2000/svg\" height=\"24px\"viewBox=\"0 0 24 24\"\n",
              "       width=\"24px\">\n",
              "    <path d=\"M0 0h24v24H0V0z\" fill=\"none\"/>\n",
              "    <path d=\"M18.56 5.44l.94 2.06.94-2.06 2.06-.94-2.06-.94-.94-2.06-.94 2.06-2.06.94zm-11 1L8.5 8.5l.94-2.06 2.06-.94-2.06-.94L8.5 2.5l-.94 2.06-2.06.94zm10 10l.94 2.06.94-2.06 2.06-.94-2.06-.94-.94-2.06-.94 2.06-2.06.94z\"/><path d=\"M17.41 7.96l-1.37-1.37c-.4-.4-.92-.59-1.43-.59-.52 0-1.04.2-1.43.59L10.3 9.45l-7.72 7.72c-.78.78-.78 2.05 0 2.83L4 21.41c.39.39.9.59 1.41.59.51 0 1.02-.2 1.41-.59l7.78-7.78 2.81-2.81c.8-.78.8-2.07 0-2.86zM5.41 20L4 18.59l7.72-7.72 1.47 1.35L5.41 20z\"/>\n",
              "  </svg>\n",
              "      </button>\n",
              "      \n",
              "  <style>\n",
              "    .colab-df-container {\n",
              "      display:flex;\n",
              "      flex-wrap:wrap;\n",
              "      gap: 12px;\n",
              "    }\n",
              "\n",
              "    .colab-df-convert {\n",
              "      background-color: #E8F0FE;\n",
              "      border: none;\n",
              "      border-radius: 50%;\n",
              "      cursor: pointer;\n",
              "      display: none;\n",
              "      fill: #1967D2;\n",
              "      height: 32px;\n",
              "      padding: 0 0 0 0;\n",
              "      width: 32px;\n",
              "    }\n",
              "\n",
              "    .colab-df-convert:hover {\n",
              "      background-color: #E2EBFA;\n",
              "      box-shadow: 0px 1px 2px rgba(60, 64, 67, 0.3), 0px 1px 3px 1px rgba(60, 64, 67, 0.15);\n",
              "      fill: #174EA6;\n",
              "    }\n",
              "\n",
              "    [theme=dark] .colab-df-convert {\n",
              "      background-color: #3B4455;\n",
              "      fill: #D2E3FC;\n",
              "    }\n",
              "\n",
              "    [theme=dark] .colab-df-convert:hover {\n",
              "      background-color: #434B5C;\n",
              "      box-shadow: 0px 1px 3px 1px rgba(0, 0, 0, 0.15);\n",
              "      filter: drop-shadow(0px 1px 2px rgba(0, 0, 0, 0.3));\n",
              "      fill: #FFFFFF;\n",
              "    }\n",
              "  </style>\n",
              "\n",
              "      <script>\n",
              "        const buttonEl =\n",
              "          document.querySelector('#df-c7e71aff-d419-4918-ad29-ba4ba09bea87 button.colab-df-convert');\n",
              "        buttonEl.style.display =\n",
              "          google.colab.kernel.accessAllowed ? 'block' : 'none';\n",
              "\n",
              "        async function convertToInteractive(key) {\n",
              "          const element = document.querySelector('#df-c7e71aff-d419-4918-ad29-ba4ba09bea87');\n",
              "          const dataTable =\n",
              "            await google.colab.kernel.invokeFunction('convertToInteractive',\n",
              "                                                     [key], {});\n",
              "          if (!dataTable) return;\n",
              "\n",
              "          const docLinkHtml = 'Like what you see? Visit the ' +\n",
              "            '<a target=\"_blank\" href=https://colab.research.google.com/notebooks/data_table.ipynb>data table notebook</a>'\n",
              "            + ' to learn more about interactive tables.';\n",
              "          element.innerHTML = '';\n",
              "          dataTable['output_type'] = 'display_data';\n",
              "          await google.colab.output.renderOutput(dataTable, element);\n",
              "          const docLink = document.createElement('div');\n",
              "          docLink.innerHTML = docLinkHtml;\n",
              "          element.appendChild(docLink);\n",
              "        }\n",
              "      </script>\n",
              "    </div>\n",
              "  </div>\n",
              "  "
            ],
            "text/plain": [
              "           JobTitle      AgencyID  ...     HireMonth      HireYear\n",
              "count  1.322600e+04  1.322600e+04  ...  1.322600e+04  1.322600e+04\n",
              "mean   1.074464e-18  2.863361e-16  ... -1.289314e-16 -5.900735e-16\n",
              "std    1.000038e+00  1.000038e+00  ...  1.000038e+00  1.000038e+00\n",
              "min   -1.544456e+00 -1.696002e+00  ... -1.823631e+00 -4.972314e+00\n",
              "25%   -1.162730e+00 -1.276371e+00  ... -4.654450e-01 -5.748858e-01\n",
              "50%   -1.501051e-01  8.869243e-02  ... -1.258986e-01  2.854805e-01\n",
              "75%    8.567348e-01  8.975852e-01  ...  5.531941e-01  8.590581e-01\n",
              "max    4.147642e+00  3.131949e+00  ...  1.911380e+00  9.546543e-01\n",
              "\n",
              "[8 rows x 6 columns]"
            ]
          },
          "metadata": {},
          "execution_count": 60
        }
      ]
    },
    {
      "cell_type": "code",
      "source": [
        "x_test[x_test.columns]=standscale.fit_transform(x_test[x_test.columns])\n",
        "x_test"
      ],
      "metadata": {
        "id": "Yp10hw4kY6Gk",
        "colab": {
          "base_uri": "https://localhost:8080/",
          "height": 423
        },
        "outputId": "2d5bab8b-e424-4eb7-fc73-3ad080e88b43"
      },
      "execution_count": null,
      "outputs": [
        {
          "output_type": "execute_result",
          "data": {
            "text/html": [
              "\n",
              "  <div id=\"df-559c95ae-a029-4dd8-bdde-13b016823ce9\">\n",
              "    <div class=\"colab-df-container\">\n",
              "      <div>\n",
              "<style scoped>\n",
              "    .dataframe tbody tr th:only-of-type {\n",
              "        vertical-align: middle;\n",
              "    }\n",
              "\n",
              "    .dataframe tbody tr th {\n",
              "        vertical-align: top;\n",
              "    }\n",
              "\n",
              "    .dataframe thead th {\n",
              "        text-align: right;\n",
              "    }\n",
              "</style>\n",
              "<table border=\"1\" class=\"dataframe\">\n",
              "  <thead>\n",
              "    <tr style=\"text-align: right;\">\n",
              "      <th></th>\n",
              "      <th>JobTitle</th>\n",
              "      <th>AgencyID</th>\n",
              "      <th>Agency</th>\n",
              "      <th>HireDay</th>\n",
              "      <th>HireMonth</th>\n",
              "      <th>HireYear</th>\n",
              "    </tr>\n",
              "  </thead>\n",
              "  <tbody>\n",
              "    <tr>\n",
              "      <th>9055</th>\n",
              "      <td>-1.154599</td>\n",
              "      <td>-1.250178</td>\n",
              "      <td>-1.330085</td>\n",
              "      <td>-1.549218</td>\n",
              "      <td>-0.124148</td>\n",
              "      <td>0.564259</td>\n",
              "    </tr>\n",
              "    <tr>\n",
              "      <th>3213</th>\n",
              "      <td>1.421558</td>\n",
              "      <td>1.571258</td>\n",
              "      <td>1.170112</td>\n",
              "      <td>1.829833</td>\n",
              "      <td>-1.138749</td>\n",
              "      <td>0.955368</td>\n",
              "    </tr>\n",
              "    <tr>\n",
              "      <th>18527</th>\n",
              "      <td>1.144638</td>\n",
              "      <td>1.275911</td>\n",
              "      <td>1.502420</td>\n",
              "      <td>-0.463094</td>\n",
              "      <td>0.214052</td>\n",
              "      <td>-0.511291</td>\n",
              "    </tr>\n",
              "    <tr>\n",
              "      <th>11101</th>\n",
              "      <td>-1.145990</td>\n",
              "      <td>-1.296437</td>\n",
              "      <td>-1.381300</td>\n",
              "      <td>-0.704455</td>\n",
              "      <td>-1.476949</td>\n",
              "      <td>0.075372</td>\n",
              "    </tr>\n",
              "    <tr>\n",
              "      <th>11846</th>\n",
              "      <td>1.820979</td>\n",
              "      <td>0.911378</td>\n",
              "      <td>0.152684</td>\n",
              "      <td>0.623029</td>\n",
              "      <td>-0.800549</td>\n",
              "      <td>-1.782395</td>\n",
              "    </tr>\n",
              "    <tr>\n",
              "      <th>...</th>\n",
              "      <td>...</td>\n",
              "      <td>...</td>\n",
              "      <td>...</td>\n",
              "      <td>...</td>\n",
              "      <td>...</td>\n",
              "      <td>...</td>\n",
              "    </tr>\n",
              "    <tr>\n",
              "      <th>14178</th>\n",
              "      <td>1.262349</td>\n",
              "      <td>1.190758</td>\n",
              "      <td>1.211164</td>\n",
              "      <td>0.623029</td>\n",
              "      <td>0.552253</td>\n",
              "      <td>-0.022405</td>\n",
              "    </tr>\n",
              "    <tr>\n",
              "      <th>194</th>\n",
              "      <td>-1.145990</td>\n",
              "      <td>-1.325110</td>\n",
              "      <td>-1.381300</td>\n",
              "      <td>-0.463094</td>\n",
              "      <td>-0.462348</td>\n",
              "      <td>0.662036</td>\n",
              "    </tr>\n",
              "    <tr>\n",
              "      <th>6808</th>\n",
              "      <td>1.097069</td>\n",
              "      <td>0.779743</td>\n",
              "      <td>0.380022</td>\n",
              "      <td>0.985070</td>\n",
              "      <td>-1.476949</td>\n",
              "      <td>0.270927</td>\n",
              "    </tr>\n",
              "    <tr>\n",
              "      <th>14662</th>\n",
              "      <td>-0.384817</td>\n",
              "      <td>-0.203506</td>\n",
              "      <td>0.152684</td>\n",
              "      <td>-1.549218</td>\n",
              "      <td>1.566854</td>\n",
              "      <td>0.368704</td>\n",
              "    </tr>\n",
              "    <tr>\n",
              "      <th>4284</th>\n",
              "      <td>1.995325</td>\n",
              "      <td>0.663264</td>\n",
              "      <td>0.447285</td>\n",
              "      <td>-1.790578</td>\n",
              "      <td>-1.138749</td>\n",
              "      <td>0.564259</td>\n",
              "    </tr>\n",
              "  </tbody>\n",
              "</table>\n",
              "<p>5669 rows × 6 columns</p>\n",
              "</div>\n",
              "      <button class=\"colab-df-convert\" onclick=\"convertToInteractive('df-559c95ae-a029-4dd8-bdde-13b016823ce9')\"\n",
              "              title=\"Convert this dataframe to an interactive table.\"\n",
              "              style=\"display:none;\">\n",
              "        \n",
              "  <svg xmlns=\"http://www.w3.org/2000/svg\" height=\"24px\"viewBox=\"0 0 24 24\"\n",
              "       width=\"24px\">\n",
              "    <path d=\"M0 0h24v24H0V0z\" fill=\"none\"/>\n",
              "    <path d=\"M18.56 5.44l.94 2.06.94-2.06 2.06-.94-2.06-.94-.94-2.06-.94 2.06-2.06.94zm-11 1L8.5 8.5l.94-2.06 2.06-.94-2.06-.94L8.5 2.5l-.94 2.06-2.06.94zm10 10l.94 2.06.94-2.06 2.06-.94-2.06-.94-.94-2.06-.94 2.06-2.06.94z\"/><path d=\"M17.41 7.96l-1.37-1.37c-.4-.4-.92-.59-1.43-.59-.52 0-1.04.2-1.43.59L10.3 9.45l-7.72 7.72c-.78.78-.78 2.05 0 2.83L4 21.41c.39.39.9.59 1.41.59.51 0 1.02-.2 1.41-.59l7.78-7.78 2.81-2.81c.8-.78.8-2.07 0-2.86zM5.41 20L4 18.59l7.72-7.72 1.47 1.35L5.41 20z\"/>\n",
              "  </svg>\n",
              "      </button>\n",
              "      \n",
              "  <style>\n",
              "    .colab-df-container {\n",
              "      display:flex;\n",
              "      flex-wrap:wrap;\n",
              "      gap: 12px;\n",
              "    }\n",
              "\n",
              "    .colab-df-convert {\n",
              "      background-color: #E8F0FE;\n",
              "      border: none;\n",
              "      border-radius: 50%;\n",
              "      cursor: pointer;\n",
              "      display: none;\n",
              "      fill: #1967D2;\n",
              "      height: 32px;\n",
              "      padding: 0 0 0 0;\n",
              "      width: 32px;\n",
              "    }\n",
              "\n",
              "    .colab-df-convert:hover {\n",
              "      background-color: #E2EBFA;\n",
              "      box-shadow: 0px 1px 2px rgba(60, 64, 67, 0.3), 0px 1px 3px 1px rgba(60, 64, 67, 0.15);\n",
              "      fill: #174EA6;\n",
              "    }\n",
              "\n",
              "    [theme=dark] .colab-df-convert {\n",
              "      background-color: #3B4455;\n",
              "      fill: #D2E3FC;\n",
              "    }\n",
              "\n",
              "    [theme=dark] .colab-df-convert:hover {\n",
              "      background-color: #434B5C;\n",
              "      box-shadow: 0px 1px 3px 1px rgba(0, 0, 0, 0.15);\n",
              "      filter: drop-shadow(0px 1px 2px rgba(0, 0, 0, 0.3));\n",
              "      fill: #FFFFFF;\n",
              "    }\n",
              "  </style>\n",
              "\n",
              "      <script>\n",
              "        const buttonEl =\n",
              "          document.querySelector('#df-559c95ae-a029-4dd8-bdde-13b016823ce9 button.colab-df-convert');\n",
              "        buttonEl.style.display =\n",
              "          google.colab.kernel.accessAllowed ? 'block' : 'none';\n",
              "\n",
              "        async function convertToInteractive(key) {\n",
              "          const element = document.querySelector('#df-559c95ae-a029-4dd8-bdde-13b016823ce9');\n",
              "          const dataTable =\n",
              "            await google.colab.kernel.invokeFunction('convertToInteractive',\n",
              "                                                     [key], {});\n",
              "          if (!dataTable) return;\n",
              "\n",
              "          const docLinkHtml = 'Like what you see? Visit the ' +\n",
              "            '<a target=\"_blank\" href=https://colab.research.google.com/notebooks/data_table.ipynb>data table notebook</a>'\n",
              "            + ' to learn more about interactive tables.';\n",
              "          element.innerHTML = '';\n",
              "          dataTable['output_type'] = 'display_data';\n",
              "          await google.colab.output.renderOutput(dataTable, element);\n",
              "          const docLink = document.createElement('div');\n",
              "          docLink.innerHTML = docLinkHtml;\n",
              "          element.appendChild(docLink);\n",
              "        }\n",
              "      </script>\n",
              "    </div>\n",
              "  </div>\n",
              "  "
            ],
            "text/plain": [
              "       JobTitle  AgencyID    Agency   HireDay  HireMonth  HireYear\n",
              "9055  -1.154599 -1.250178 -1.330085 -1.549218  -0.124148  0.564259\n",
              "3213   1.421558  1.571258  1.170112  1.829833  -1.138749  0.955368\n",
              "18527  1.144638  1.275911  1.502420 -0.463094   0.214052 -0.511291\n",
              "11101 -1.145990 -1.296437 -1.381300 -0.704455  -1.476949  0.075372\n",
              "11846  1.820979  0.911378  0.152684  0.623029  -0.800549 -1.782395\n",
              "...         ...       ...       ...       ...        ...       ...\n",
              "14178  1.262349  1.190758  1.211164  0.623029   0.552253 -0.022405\n",
              "194   -1.145990 -1.325110 -1.381300 -0.463094  -0.462348  0.662036\n",
              "6808   1.097069  0.779743  0.380022  0.985070  -1.476949  0.270927\n",
              "14662 -0.384817 -0.203506  0.152684 -1.549218   1.566854  0.368704\n",
              "4284   1.995325  0.663264  0.447285 -1.790578  -1.138749  0.564259\n",
              "\n",
              "[5669 rows x 6 columns]"
            ]
          },
          "metadata": {},
          "execution_count": 61
        }
      ]
    },
    {
      "cell_type": "markdown",
      "source": [
        "# Linear Regression model building"
      ],
      "metadata": {
        "id": "lxVd8M6vxxiJ"
      }
    },
    {
      "cell_type": "code",
      "source": [
        "lr=LinearRegression()  #initializing "
      ],
      "metadata": {
        "id": "39G-nG9RwZx2"
      },
      "execution_count": null,
      "outputs": []
    },
    {
      "cell_type": "code",
      "source": [
        "lr.fit(x_train,y_train)"
      ],
      "metadata": {
        "colab": {
          "base_uri": "https://localhost:8080/"
        },
        "id": "IvHQpcqGx9Pg",
        "outputId": "11ad49dd-55d4-42d8-a0fe-2e1fbde036a8"
      },
      "execution_count": null,
      "outputs": [
        {
          "output_type": "execute_result",
          "data": {
            "text/plain": [
              "LinearRegression()"
            ]
          },
          "metadata": {},
          "execution_count": 63
        }
      ]
    },
    {
      "cell_type": "code",
      "source": [
        "y_pred= lr.predict(x_test)\n",
        "y_pred=y_pred.reshape(-1,1)"
      ],
      "metadata": {
        "id": "zn1LRyAfyG4l"
      },
      "execution_count": null,
      "outputs": []
    },
    {
      "cell_type": "code",
      "source": [
        "from sklearn.metrics import r2_score, mean_absolute_error,mean_squared_error\n",
        "\n",
        "r2_score(y_test,y_pred)"
      ],
      "metadata": {
        "colab": {
          "base_uri": "https://localhost:8080/"
        },
        "id": "7bE390XcyQeP",
        "outputId": "1190f17e-4bde-4111-ee54-59701cab28d6"
      },
      "execution_count": null,
      "outputs": [
        {
          "output_type": "execute_result",
          "data": {
            "text/plain": [
              "0.9655385124043147"
            ]
          },
          "metadata": {},
          "execution_count": 70
        }
      ]
    },
    {
      "cell_type": "code",
      "source": [
        "mean_absolute_error(y_test,y_pred)"
      ],
      "metadata": {
        "colab": {
          "base_uri": "https://localhost:8080/"
        },
        "id": "Nb9EwJJjyg1v",
        "outputId": "7b9921b0-563f-4c2e-e837-d86f74e66eb7"
      },
      "execution_count": null,
      "outputs": [
        {
          "output_type": "execute_result",
          "data": {
            "text/plain": [
              "2569.6090339604875"
            ]
          },
          "metadata": {},
          "execution_count": 71
        }
      ]
    },
    {
      "cell_type": "code",
      "source": [
        "mean_squared_error(y_test,y_pred)"
      ],
      "metadata": {
        "colab": {
          "base_uri": "https://localhost:8080/"
        },
        "id": "49FcX9Axzei4",
        "outputId": "69cfffa9-157c-4a83-a8f9-c63850373bd1"
      },
      "execution_count": null,
      "outputs": [
        {
          "output_type": "execute_result",
          "data": {
            "text/plain": [
              "21080865.35099658"
            ]
          },
          "metadata": {},
          "execution_count": 72
        }
      ]
    },
    {
      "cell_type": "code",
      "source": [
        "lr.fit(x_train,y_train).intercept_"
      ],
      "metadata": {
        "id": "Yjn9B-kzzuJu",
        "colab": {
          "base_uri": "https://localhost:8080/"
        },
        "outputId": "cb5da0eb-a6d7-4efb-9f49-385eda456c8d"
      },
      "execution_count": null,
      "outputs": [
        {
          "output_type": "execute_result",
          "data": {
            "text/plain": [
              "39697.79328595191"
            ]
          },
          "metadata": {},
          "execution_count": 73
        }
      ]
    },
    {
      "cell_type": "code",
      "source": [
        ""
      ],
      "metadata": {
        "id": "QZRt34X5Byfj"
      },
      "execution_count": null,
      "outputs": []
    }
  ]
}